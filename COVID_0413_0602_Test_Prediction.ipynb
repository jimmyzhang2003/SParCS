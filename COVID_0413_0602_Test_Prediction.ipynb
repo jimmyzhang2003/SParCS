{
  "nbformat": 4,
  "nbformat_minor": 0,
  "metadata": {
    "colab": {
      "name": "COVID_0413_0602_Test_Prediction.ipynb",
      "provenance": [],
      "collapsed_sections": [],
      "include_colab_link": true
    },
    "kernelspec": {
      "name": "python3",
      "display_name": "Python 3"
    }
  },
  "cells": [
    {
      "cell_type": "markdown",
      "metadata": {
        "id": "view-in-github",
        "colab_type": "text"
      },
      "source": [
        "<a href=\"https://colab.research.google.com/github/jimmyzhang2003/SParCS/blob/master/COVID_0413_0602_Test_Prediction.ipynb\" target=\"_parent\"><img src=\"https://colab.research.google.com/assets/colab-badge.svg\" alt=\"Open In Colab\"/></a>"
      ]
    },
    {
      "cell_type": "code",
      "metadata": {
        "id": "g2l0aqtrnRu4",
        "colab_type": "code",
        "colab": {
          "base_uri": "https://localhost:8080/",
          "height": 139
        },
        "outputId": "e6af4e40-8c48-49c3-de65-9e0494932b77"
      },
      "source": [
        "from google.colab import drive # import drive from google colab\n",
        "\n",
        "ROOT = \"/content/drive\"     # default location for the drive\n",
        "print(ROOT)                 # print content of ROOT (Optional)\n",
        "\n",
        "drive.mount(ROOT)           # we mount the google drive at /content/drive"
      ],
      "execution_count": 1,
      "outputs": [
        {
          "output_type": "stream",
          "text": [
            "/content/drive\n",
            "Go to this URL in a browser: https://accounts.google.com/o/oauth2/auth?client_id=947318989803-6bn6qk8qdgf4n4g3pfee6491hc0brc4i.apps.googleusercontent.com&redirect_uri=urn%3aietf%3awg%3aoauth%3a2.0%3aoob&response_type=code&scope=email%20https%3a%2f%2fwww.googleapis.com%2fauth%2fdocs.test%20https%3a%2f%2fwww.googleapis.com%2fauth%2fdrive%20https%3a%2f%2fwww.googleapis.com%2fauth%2fdrive.photos.readonly%20https%3a%2f%2fwww.googleapis.com%2fauth%2fpeopleapi.readonly\n",
            "\n",
            "Enter your authorization code:\n",
            "··········\n",
            "Mounted at /content/drive\n"
          ],
          "name": "stdout"
        }
      ]
    },
    {
      "cell_type": "code",
      "metadata": {
        "id": "8ZAQ3WErncii",
        "colab_type": "code",
        "colab": {
          "base_uri": "https://localhost:8080/",
          "height": 34
        },
        "outputId": "a4ea1e53-ed9a-4109-b229-8723527ed71e"
      },
      "source": [
        "cd /content/drive/My Drive/"
      ],
      "execution_count": 2,
      "outputs": [
        {
          "output_type": "stream",
          "text": [
            "/content/drive/My Drive\n"
          ],
          "name": "stdout"
        }
      ]
    },
    {
      "cell_type": "code",
      "metadata": {
        "id": "-QvEm7wOnlUT",
        "colab_type": "code",
        "colab": {
          "base_uri": "https://localhost:8080/",
          "height": 71
        },
        "outputId": "bc6be526-dc60-40d1-f2fd-cf1896934a30"
      },
      "source": [
        "import pandas as pd     \n",
        "import numpy as np \n",
        "from matplotlib import pyplot as plt \n",
        "import seaborn as sns"
      ],
      "execution_count": 3,
      "outputs": [
        {
          "output_type": "stream",
          "text": [
            "/usr/local/lib/python3.6/dist-packages/statsmodels/tools/_testing.py:19: FutureWarning: pandas.util.testing is deprecated. Use the functions in the public API at pandas.testing instead.\n",
            "  import pandas.util.testing as tm\n"
          ],
          "name": "stderr"
        }
      ]
    },
    {
      "cell_type": "code",
      "metadata": {
        "id": "2I-Qkqe3nl5N",
        "colab_type": "code",
        "colab": {
          "base_uri": "https://localhost:8080/",
          "height": 88
        },
        "outputId": "5496ccb1-3e6b-41cd-ea3f-f77680d7c6ee"
      },
      "source": [
        "import os\n",
        "path_to_data = 'MSSM_COVID_FINAL/UPDATED_DATASETS/'\n",
        "files = []\n",
        "for file in os.listdir(path_to_data):\n",
        "  if file.endswith('.txt'):\n",
        "    files.append(file)\n",
        "\n",
        "print(files)\n",
        "\n",
        "##use 0413_TESTED_0602_UPDATE as train data\n",
        "patient_df = pd.read_csv(path_to_data + files[0], sep=\"\\t\", \n",
        "                        error_bad_lines=False, encoding='latin1')\n",
        "\n",
        "#use 0602_TESTED_MINUS0413 as test data\n",
        "test_df = pd.read_csv(path_to_data + files[1], sep=\"\\t\", \n",
        "                        error_bad_lines=False, encoding='latin1')"
      ],
      "execution_count": 4,
      "outputs": [
        {
          "output_type": "stream",
          "text": [
            "['0413_TESTED_0602_UPDATE.txt', '0602_TESTED_MINUS0413.txt']\n"
          ],
          "name": "stdout"
        },
        {
          "output_type": "stream",
          "text": [
            "/usr/local/lib/python3.6/dist-packages/IPython/core/interactiveshell.py:2718: DtypeWarning: Columns (15) have mixed types.Specify dtype option on import or set low_memory=False.\n",
            "  interactivity=interactivity, compiler=compiler, result=result)\n"
          ],
          "name": "stderr"
        }
      ]
    },
    {
      "cell_type": "code",
      "metadata": {
        "id": "lxoGHN4vwCfd",
        "colab_type": "code",
        "colab": {
          "base_uri": "https://localhost:8080/",
          "height": 35
        },
        "outputId": "972fbced-60fe-4c78-a87e-870a404eeb07"
      },
      "source": [
        "\"There are {} features in the patient dataset.\".format(patient_df.shape[1])"
      ],
      "execution_count": 5,
      "outputs": [
        {
          "output_type": "execute_result",
          "data": {
            "application/vnd.google.colaboratory.intrinsic+json": {
              "type": "string"
            },
            "text/plain": [
              "'There are 125 features in the patient dataset.'"
            ]
          },
          "metadata": {
            "tags": []
          },
          "execution_count": 5
        }
      ]
    },
    {
      "cell_type": "code",
      "metadata": {
        "id": "RqFNf55INJgn",
        "colab_type": "code",
        "colab": {
          "base_uri": "https://localhost:8080/",
          "height": 289
        },
        "outputId": "eb4a3c48-8c77-4838-a233-af4b301cf043"
      },
      "source": [
        "#check distribution of target outcomes in 0413 (train) and 0602 (test) datasets\n",
        "fig, ax = plt.subplots(1,2)\n",
        "sns.countplot(patient_df['COVID_POS'], ax = ax[0]).set_title('0413 Data: COVID Test Result')\n",
        "sns.countplot(test_df['COVID_POS'], ax = ax[1]).set_title('0602 Data: COVID Test Result')\n",
        "fig.tight_layout(pad = 1.5)\n",
        "fig.show()"
      ],
      "execution_count": 6,
      "outputs": [
        {
          "output_type": "display_data",
          "data": {
            "image/png": "[encoded data removed]",
            "text/plain": [
              "<Figure size 432x288 with 2 Axes>"
            ]
          },
          "metadata": {
            "tags": [],
            "needs_background": "light"
          }
        }
      ]
    },
    {
      "cell_type": "code",
      "metadata": {
        "id": "qz-jS2nyJv0z",
        "colab_type": "code",
        "colab": {}
      },
      "source": [
        "#drop variables irrelevant to COVID test result and any overlapping variables\n",
        "out_cols = ['NEW_MASKED_MRN', 'NEW_MASKED_ENCOUNTER_EPIC_CSN', 'MASKED_MRN',\n",
        "       'MASKED_ENCOUNTER_EPIC_CSN', 'ENC_SEQ_NUMBER','MASKED_EXTERNAL_VISIT_ID', 'ENC_ACUITY','COVID_RESULT', \n",
        "       'COVID_ORDER_DAYS_SINCE_ENCOUNTER', 'DISCHARGE_DAYS_SINCE_ENCOUNTER', 'PREFERREDLANGUAGE', 'FACILITY',\n",
        "       'INFECTION_STATUS', 'ENCOUNTER_TYPE', 'ADMISSION_TYPE', 'PATIENT_CLASS', 'LOCATION_OF_CARE', 'DEPARTMENT_NAME',\n",
        "       'CARE_AREA_TYPE', 'EMERGENCY_DEPARTMENT', 'INPATIENT_NON_ICU', 'ICU', 'DISCHARGE_LOCATON', 'COVID_ORDER',\n",
        "       'COVID_RESULT_DAYS_SINCE_ENCOUNTER','CANCER_DIAGNOSIS_DESCRIPTION', 'DECEASED_INDICATOR', \n",
        "       'DECEASED_DAYS_SINCE_ENCOUNTER', 'TOCILIZUMAB', 'DATE_OF_FIRST_TOCILIZUMAB', 'REMDESIVIR',\n",
        "       'DATE_OF_FIRST_REMDESIVIR', 'SARILUMAB', 'DATE_OF_FIRST_SARILUMAB','HYDROXYCHLOROQUINE', \n",
        "       'DATE_OF_FIRST_HYDROXYCHLOROQUINE','ANAKINRA', 'DATE_OF_FIRST_ANAKINRA', 'AZITHROMYCIN',\n",
        "       'DATE_OF_FIRST_AZITHROMYCIN', 'INITIAL_AIRWAY_TYPE','INITIAL_AIRWAY_DATE', 'RUN_DATE','ADMITTED', 'COPD_ASTHMA', \n",
        "       'INHOSP_DEATH', 'DAYS_TO_INHOSPDEATH_DISCHARGE','ZIPCODE', 'RACE_ETHNICITY_COMBINED']\n",
        "\n",
        "patient_df_modified = patient_df.copy().drop(columns = out_cols, axis = 1)\n",
        "\n",
        "#repeat for test set\n",
        "test_df_modified = test_df.copy().drop(columns = out_cols, axis = 1)"
      ],
      "execution_count": 7,
      "outputs": []
    },
    {
      "cell_type": "code",
      "metadata": {
        "id": "dSB2wbwWTowZ",
        "colab_type": "code",
        "colab": {
          "base_uri": "https://localhost:8080/",
          "height": 35
        },
        "outputId": "f0b93fd9-d43a-4141-d876-512af07ffbe3"
      },
      "source": [
        "\"There are {} features left in the patient dataset.\".format(patient_df_modified.shape[1])"
      ],
      "execution_count": 8,
      "outputs": [
        {
          "output_type": "execute_result",
          "data": {
            "application/vnd.google.colaboratory.intrinsic+json": {
              "type": "string"
            },
            "text/plain": [
              "'There are 76 features left in the patient dataset.'"
            ]
          },
          "metadata": {
            "tags": []
          },
          "execution_count": 8
        }
      ]
    },
    {
      "cell_type": "code",
      "metadata": {
        "id": "-C82BJjJRmE2",
        "colab_type": "code",
        "colab": {}
      },
      "source": [
        "#drop columns with >90% missing data\n",
        "patient_df_modified = patient_df_modified.dropna(thresh = 0.1*patient_df_modified.shape[0], axis = 1)\n",
        "\n",
        "#repeat for test set\n",
        "test_df_modified = test_df_modified.dropna(thresh = 0.1*test_df_modified.shape[0], axis = 1)"
      ],
      "execution_count": 9,
      "outputs": []
    },
    {
      "cell_type": "code",
      "metadata": {
        "id": "Fx8VaxdwnzDT",
        "colab_type": "code",
        "colab": {}
      },
      "source": [
        "#label encode SEX variable and rename to MALE\n",
        "patient_df_modified['SEX'] = patient_df_modified['SEX'].map({'MALE': 1, 'FEMALE':0})\n",
        "patient_df_modified.rename(columns={'SEX': 'MALE'}, inplace=True)\n",
        "test_df_modified['SEX'] = test_df_modified['SEX'].map({'MALE': 1, 'FEMALE':0})\n",
        "test_df_modified.rename(columns={'SEX': 'MALE'}, inplace=True)"
      ],
      "execution_count": 10,
      "outputs": []
    },
    {
      "cell_type": "code",
      "metadata": {
        "id": "qTL_-YnKBuC8",
        "colab_type": "code",
        "colab": {
          "base_uri": "https://localhost:8080/",
          "height": 34
        },
        "outputId": "5df4190d-92d7-4b12-b9b3-e3bac54dab0e"
      },
      "source": [
        "#modifying the object values into categorical data \n",
        "cols_str = []\n",
        "for col in patient_df_modified.columns: \n",
        "  if patient_df_modified[col].dtype == object:\n",
        "    cols_str.append(col)\n",
        "\n",
        "for col in cols_str: \n",
        "  patient_df_modified[col] = pd.Categorical(patient_df_modified[col]).codes\n",
        "  test_df_modified[col] = pd.Categorical(test_df_modified[col]).codes\n",
        "  patient_df_modified[col] = patient_df_modified[col].replace(-1, np.nan) ##replace -1s with nan\n",
        "  test_df_modified[col] = test_df_modified[col].replace(-1, np.nan) \n",
        "print(cols_str)"
      ],
      "execution_count": 11,
      "outputs": [
        {
          "output_type": "stream",
          "text": [
            "['RACE_SIMPLE', 'SMOKING_SIMPLE']\n"
          ],
          "name": "stdout"
        }
      ]
    },
    {
      "cell_type": "code",
      "metadata": {
        "id": "oO2unlRpWTGL",
        "colab_type": "code",
        "colab": {}
      },
      "source": [
        "#patient_df_modified = pd.get_dummies(patient_df_modified)\n",
        "#test_df_modified = pd.get_dummies(test_df_modified)"
      ],
      "execution_count": 12,
      "outputs": []
    },
    {
      "cell_type": "code",
      "metadata": {
        "id": "HLKe9lXRSSJ5",
        "colab_type": "code",
        "colab": {}
      },
      "source": [
        "#target encode categorical variables\n",
        "#for col in cols_str:  \n",
        "  #means = patient_df_modified.groupby(col).COVID_POS.mean()\n",
        " # patient_df_modified[col] = patient_df_modified[col].map(means)\n",
        "  #test_df_modified[col] = test_df_modified[col].map(means)"
      ],
      "execution_count": 13,
      "outputs": []
    },
    {
      "cell_type": "code",
      "metadata": {
        "id": "Js_LigAVgJRN",
        "colab_type": "code",
        "colab": {
          "base_uri": "https://localhost:8080/",
          "height": 224
        },
        "outputId": "867b09b1-159b-4e70-d3ce-2f82552ed261"
      },
      "source": [
        "patient_df_modified.head()"
      ],
      "execution_count": 14,
      "outputs": [
        {
          "output_type": "execute_result",
          "data": {
            "text/html": [
              "<div>\n",
              "<style scoped>\n",
              "    .dataframe tbody tr th:only-of-type {\n",
              "        vertical-align: middle;\n",
              "    }\n",
              "\n",
              "    .dataframe tbody tr th {\n",
              "        vertical-align: top;\n",
              "    }\n",
              "\n",
              "    .dataframe thead th {\n",
              "        text-align: right;\n",
              "    }\n",
              "</style>\n",
              "<table border=\"1\" class=\"dataframe\">\n",
              "  <thead>\n",
              "    <tr style=\"text-align: right;\">\n",
              "      <th></th>\n",
              "      <th>COVID_POS</th>\n",
              "      <th>AGE</th>\n",
              "      <th>MALE</th>\n",
              "      <th>ASTHMA</th>\n",
              "      <th>COPD</th>\n",
              "      <th>HTN</th>\n",
              "      <th>OBSTRUCTIVE_SLEEP_APNEA</th>\n",
              "      <th>OBESITY</th>\n",
              "      <th>DIABETES</th>\n",
              "      <th>CHRONIC_KIDNEY_DISEASE</th>\n",
              "      <th>HIV_FLAG</th>\n",
              "      <th>CANCER_FLAG</th>\n",
              "      <th>CORONARY_ARTERY_DISEASE</th>\n",
              "      <th>ATRIAL_FIBRILLATION</th>\n",
              "      <th>HEART_FAILURE</th>\n",
              "      <th>CHRONIC_VIRAL_HEPATITIS</th>\n",
              "      <th>ALCOHOLIC_NONALCOHOLIC_LIVER_DISEASE</th>\n",
              "      <th>ARDS</th>\n",
              "      <th>ACUTE_KIDNEY_INJURY</th>\n",
              "      <th>ACUTE_VENOUS_THROMBOEMBOLISM</th>\n",
              "      <th>CEREBRAL_INFARCTION</th>\n",
              "      <th>INTRACEREBRAL_HEMORRHAGE</th>\n",
              "      <th>BMI</th>\n",
              "      <th>TEMPERATURE</th>\n",
              "      <th>TEMP_MAX</th>\n",
              "      <th>HEART_RATE</th>\n",
              "      <th>RESPIRATORY_RATE</th>\n",
              "      <th>SYSTOLIC_BP</th>\n",
              "      <th>DIASTOLIC_BP</th>\n",
              "      <th>O2_SAT</th>\n",
              "      <th>O2SAT_MIN</th>\n",
              "      <th>RACE_SIMPLE</th>\n",
              "      <th>SMOKING_SIMPLE</th>\n",
              "      <th>ALBUMIN</th>\n",
              "      <th>ALT</th>\n",
              "      <th>ANC</th>\n",
              "      <th>AST</th>\n",
              "      <th>BASO</th>\n",
              "      <th>BASO_PCT</th>\n",
              "      <th>BUN</th>\n",
              "      <th>CALCIUM</th>\n",
              "      <th>CHLORIDE</th>\n",
              "      <th>CREATININE</th>\n",
              "      <th>CRP</th>\n",
              "      <th>DDIMER</th>\n",
              "      <th>EOS</th>\n",
              "      <th>EOS_PCT</th>\n",
              "      <th>ESR</th>\n",
              "      <th>FERRITIN</th>\n",
              "      <th>HGB</th>\n",
              "      <th>INR</th>\n",
              "      <th>LDH</th>\n",
              "      <th>LYMPHS</th>\n",
              "      <th>LYMPHS_PCT</th>\n",
              "      <th>MONO</th>\n",
              "      <th>MONO_PCT</th>\n",
              "      <th>NEUTRO_PCT</th>\n",
              "      <th>PLT</th>\n",
              "      <th>POTASSIUM</th>\n",
              "      <th>PROCALCITONIN</th>\n",
              "      <th>PT</th>\n",
              "      <th>PTT</th>\n",
              "      <th>SODIUM</th>\n",
              "      <th>TBILI</th>\n",
              "      <th>TROPONIN</th>\n",
              "      <th>WBC</th>\n",
              "      <th>BNP</th>\n",
              "      <th>HCT</th>\n",
              "      <th>IL6</th>\n",
              "    </tr>\n",
              "  </thead>\n",
              "  <tbody>\n",
              "    <tr>\n",
              "      <th>0</th>\n",
              "      <td>False</td>\n",
              "      <td>59</td>\n",
              "      <td>1.0</td>\n",
              "      <td>0</td>\n",
              "      <td>0</td>\n",
              "      <td>1</td>\n",
              "      <td>0</td>\n",
              "      <td>0</td>\n",
              "      <td>1</td>\n",
              "      <td>0</td>\n",
              "      <td>0</td>\n",
              "      <td>0</td>\n",
              "      <td>1</td>\n",
              "      <td>0</td>\n",
              "      <td>0</td>\n",
              "      <td>0</td>\n",
              "      <td>0</td>\n",
              "      <td>0</td>\n",
              "      <td>0</td>\n",
              "      <td>0</td>\n",
              "      <td>0</td>\n",
              "      <td>0</td>\n",
              "      <td>NaN</td>\n",
              "      <td>96.0</td>\n",
              "      <td>96.0</td>\n",
              "      <td>83.0</td>\n",
              "      <td>NaN</td>\n",
              "      <td>NaN</td>\n",
              "      <td>NaN</td>\n",
              "      <td>97.0</td>\n",
              "      <td>97.0</td>\n",
              "      <td>1.0</td>\n",
              "      <td>1.0</td>\n",
              "      <td>NaN</td>\n",
              "      <td>NaN</td>\n",
              "      <td>NaN</td>\n",
              "      <td>NaN</td>\n",
              "      <td>NaN</td>\n",
              "      <td>NaN</td>\n",
              "      <td>NaN</td>\n",
              "      <td>NaN</td>\n",
              "      <td>NaN</td>\n",
              "      <td>NaN</td>\n",
              "      <td>NaN</td>\n",
              "      <td>NaN</td>\n",
              "      <td>NaN</td>\n",
              "      <td>NaN</td>\n",
              "      <td>NaN</td>\n",
              "      <td>NaN</td>\n",
              "      <td>NaN</td>\n",
              "      <td>NaN</td>\n",
              "      <td>NaN</td>\n",
              "      <td>NaN</td>\n",
              "      <td>NaN</td>\n",
              "      <td>NaN</td>\n",
              "      <td>NaN</td>\n",
              "      <td>NaN</td>\n",
              "      <td>NaN</td>\n",
              "      <td>NaN</td>\n",
              "      <td>NaN</td>\n",
              "      <td>NaN</td>\n",
              "      <td>NaN</td>\n",
              "      <td>NaN</td>\n",
              "      <td>NaN</td>\n",
              "      <td>NaN</td>\n",
              "      <td>NaN</td>\n",
              "      <td>NaN</td>\n",
              "      <td>NaN</td>\n",
              "      <td>NaN</td>\n",
              "    </tr>\n",
              "    <tr>\n",
              "      <th>1</th>\n",
              "      <td>True</td>\n",
              "      <td>40</td>\n",
              "      <td>0.0</td>\n",
              "      <td>0</td>\n",
              "      <td>0</td>\n",
              "      <td>0</td>\n",
              "      <td>0</td>\n",
              "      <td>0</td>\n",
              "      <td>0</td>\n",
              "      <td>0</td>\n",
              "      <td>0</td>\n",
              "      <td>0</td>\n",
              "      <td>0</td>\n",
              "      <td>0</td>\n",
              "      <td>0</td>\n",
              "      <td>0</td>\n",
              "      <td>0</td>\n",
              "      <td>0</td>\n",
              "      <td>0</td>\n",
              "      <td>0</td>\n",
              "      <td>0</td>\n",
              "      <td>0</td>\n",
              "      <td>NaN</td>\n",
              "      <td>98.0</td>\n",
              "      <td>98.6</td>\n",
              "      <td>130.0</td>\n",
              "      <td>20.0</td>\n",
              "      <td>137.0</td>\n",
              "      <td>97.0</td>\n",
              "      <td>100.0</td>\n",
              "      <td>100.0</td>\n",
              "      <td>NaN</td>\n",
              "      <td>NaN</td>\n",
              "      <td>5.0</td>\n",
              "      <td>20.0</td>\n",
              "      <td>2.4</td>\n",
              "      <td>27.0</td>\n",
              "      <td>0.1</td>\n",
              "      <td>1.4</td>\n",
              "      <td>14.0</td>\n",
              "      <td>9.7</td>\n",
              "      <td>102.0</td>\n",
              "      <td>0.82</td>\n",
              "      <td>NaN</td>\n",
              "      <td>NaN</td>\n",
              "      <td>0.0</td>\n",
              "      <td>0.9</td>\n",
              "      <td>NaN</td>\n",
              "      <td>NaN</td>\n",
              "      <td>13.2</td>\n",
              "      <td>NaN</td>\n",
              "      <td>NaN</td>\n",
              "      <td>1.9</td>\n",
              "      <td>40.3</td>\n",
              "      <td>0.3</td>\n",
              "      <td>6.1</td>\n",
              "      <td>51.3</td>\n",
              "      <td>314.0</td>\n",
              "      <td>4.2</td>\n",
              "      <td>NaN</td>\n",
              "      <td>NaN</td>\n",
              "      <td>NaN</td>\n",
              "      <td>NaN</td>\n",
              "      <td>0.5</td>\n",
              "      <td>NaN</td>\n",
              "      <td>4.7</td>\n",
              "      <td>NaN</td>\n",
              "      <td>NaN</td>\n",
              "      <td>NaN</td>\n",
              "    </tr>\n",
              "    <tr>\n",
              "      <th>2</th>\n",
              "      <td>False</td>\n",
              "      <td>52</td>\n",
              "      <td>1.0</td>\n",
              "      <td>0</td>\n",
              "      <td>0</td>\n",
              "      <td>0</td>\n",
              "      <td>0</td>\n",
              "      <td>0</td>\n",
              "      <td>0</td>\n",
              "      <td>0</td>\n",
              "      <td>1</td>\n",
              "      <td>0</td>\n",
              "      <td>0</td>\n",
              "      <td>0</td>\n",
              "      <td>0</td>\n",
              "      <td>0</td>\n",
              "      <td>0</td>\n",
              "      <td>0</td>\n",
              "      <td>0</td>\n",
              "      <td>0</td>\n",
              "      <td>0</td>\n",
              "      <td>0</td>\n",
              "      <td>25.32</td>\n",
              "      <td>98.1</td>\n",
              "      <td>98.1</td>\n",
              "      <td>91.0</td>\n",
              "      <td>NaN</td>\n",
              "      <td>96.0</td>\n",
              "      <td>63.0</td>\n",
              "      <td>95.0</td>\n",
              "      <td>95.0</td>\n",
              "      <td>3.0</td>\n",
              "      <td>1.0</td>\n",
              "      <td>NaN</td>\n",
              "      <td>NaN</td>\n",
              "      <td>NaN</td>\n",
              "      <td>NaN</td>\n",
              "      <td>NaN</td>\n",
              "      <td>NaN</td>\n",
              "      <td>NaN</td>\n",
              "      <td>NaN</td>\n",
              "      <td>NaN</td>\n",
              "      <td>NaN</td>\n",
              "      <td>NaN</td>\n",
              "      <td>NaN</td>\n",
              "      <td>NaN</td>\n",
              "      <td>NaN</td>\n",
              "      <td>NaN</td>\n",
              "      <td>NaN</td>\n",
              "      <td>NaN</td>\n",
              "      <td>NaN</td>\n",
              "      <td>NaN</td>\n",
              "      <td>NaN</td>\n",
              "      <td>NaN</td>\n",
              "      <td>NaN</td>\n",
              "      <td>NaN</td>\n",
              "      <td>NaN</td>\n",
              "      <td>NaN</td>\n",
              "      <td>NaN</td>\n",
              "      <td>NaN</td>\n",
              "      <td>NaN</td>\n",
              "      <td>NaN</td>\n",
              "      <td>NaN</td>\n",
              "      <td>NaN</td>\n",
              "      <td>NaN</td>\n",
              "      <td>NaN</td>\n",
              "      <td>NaN</td>\n",
              "      <td>NaN</td>\n",
              "      <td>NaN</td>\n",
              "    </tr>\n",
              "    <tr>\n",
              "      <th>3</th>\n",
              "      <td>False</td>\n",
              "      <td>28</td>\n",
              "      <td>1.0</td>\n",
              "      <td>0</td>\n",
              "      <td>0</td>\n",
              "      <td>0</td>\n",
              "      <td>0</td>\n",
              "      <td>0</td>\n",
              "      <td>0</td>\n",
              "      <td>0</td>\n",
              "      <td>0</td>\n",
              "      <td>0</td>\n",
              "      <td>0</td>\n",
              "      <td>0</td>\n",
              "      <td>0</td>\n",
              "      <td>0</td>\n",
              "      <td>0</td>\n",
              "      <td>0</td>\n",
              "      <td>0</td>\n",
              "      <td>0</td>\n",
              "      <td>0</td>\n",
              "      <td>0</td>\n",
              "      <td>26.14</td>\n",
              "      <td>98.9</td>\n",
              "      <td>98.9</td>\n",
              "      <td>61.0</td>\n",
              "      <td>16.0</td>\n",
              "      <td>127.0</td>\n",
              "      <td>72.0</td>\n",
              "      <td>99.0</td>\n",
              "      <td>99.0</td>\n",
              "      <td>2.0</td>\n",
              "      <td>2.0</td>\n",
              "      <td>NaN</td>\n",
              "      <td>NaN</td>\n",
              "      <td>NaN</td>\n",
              "      <td>NaN</td>\n",
              "      <td>NaN</td>\n",
              "      <td>NaN</td>\n",
              "      <td>NaN</td>\n",
              "      <td>NaN</td>\n",
              "      <td>NaN</td>\n",
              "      <td>NaN</td>\n",
              "      <td>NaN</td>\n",
              "      <td>NaN</td>\n",
              "      <td>NaN</td>\n",
              "      <td>NaN</td>\n",
              "      <td>NaN</td>\n",
              "      <td>NaN</td>\n",
              "      <td>NaN</td>\n",
              "      <td>NaN</td>\n",
              "      <td>NaN</td>\n",
              "      <td>NaN</td>\n",
              "      <td>NaN</td>\n",
              "      <td>NaN</td>\n",
              "      <td>NaN</td>\n",
              "      <td>NaN</td>\n",
              "      <td>NaN</td>\n",
              "      <td>NaN</td>\n",
              "      <td>NaN</td>\n",
              "      <td>NaN</td>\n",
              "      <td>NaN</td>\n",
              "      <td>NaN</td>\n",
              "      <td>NaN</td>\n",
              "      <td>NaN</td>\n",
              "      <td>NaN</td>\n",
              "      <td>NaN</td>\n",
              "      <td>NaN</td>\n",
              "      <td>NaN</td>\n",
              "    </tr>\n",
              "    <tr>\n",
              "      <th>4</th>\n",
              "      <td>False</td>\n",
              "      <td>27</td>\n",
              "      <td>0.0</td>\n",
              "      <td>0</td>\n",
              "      <td>0</td>\n",
              "      <td>0</td>\n",
              "      <td>0</td>\n",
              "      <td>0</td>\n",
              "      <td>0</td>\n",
              "      <td>0</td>\n",
              "      <td>0</td>\n",
              "      <td>0</td>\n",
              "      <td>0</td>\n",
              "      <td>0</td>\n",
              "      <td>0</td>\n",
              "      <td>0</td>\n",
              "      <td>0</td>\n",
              "      <td>0</td>\n",
              "      <td>0</td>\n",
              "      <td>0</td>\n",
              "      <td>0</td>\n",
              "      <td>0</td>\n",
              "      <td>24.28</td>\n",
              "      <td>99.0</td>\n",
              "      <td>99.5</td>\n",
              "      <td>90.0</td>\n",
              "      <td>18.0</td>\n",
              "      <td>112.0</td>\n",
              "      <td>85.0</td>\n",
              "      <td>97.0</td>\n",
              "      <td>97.0</td>\n",
              "      <td>3.0</td>\n",
              "      <td>2.0</td>\n",
              "      <td>NaN</td>\n",
              "      <td>NaN</td>\n",
              "      <td>NaN</td>\n",
              "      <td>NaN</td>\n",
              "      <td>NaN</td>\n",
              "      <td>0.4</td>\n",
              "      <td>NaN</td>\n",
              "      <td>NaN</td>\n",
              "      <td>NaN</td>\n",
              "      <td>NaN</td>\n",
              "      <td>NaN</td>\n",
              "      <td>NaN</td>\n",
              "      <td>NaN</td>\n",
              "      <td>0.1</td>\n",
              "      <td>NaN</td>\n",
              "      <td>NaN</td>\n",
              "      <td>13.8</td>\n",
              "      <td>NaN</td>\n",
              "      <td>NaN</td>\n",
              "      <td>NaN</td>\n",
              "      <td>14.2</td>\n",
              "      <td>NaN</td>\n",
              "      <td>6.6</td>\n",
              "      <td>78.7</td>\n",
              "      <td>210.0</td>\n",
              "      <td>NaN</td>\n",
              "      <td>NaN</td>\n",
              "      <td>NaN</td>\n",
              "      <td>NaN</td>\n",
              "      <td>NaN</td>\n",
              "      <td>NaN</td>\n",
              "      <td>NaN</td>\n",
              "      <td>9.6</td>\n",
              "      <td>NaN</td>\n",
              "      <td>41.1</td>\n",
              "      <td>NaN</td>\n",
              "    </tr>\n",
              "  </tbody>\n",
              "</table>\n",
              "</div>"
            ],
            "text/plain": [
              "   COVID_POS  AGE  MALE  ASTHMA  COPD  ...  TROPONIN  WBC  BNP   HCT  IL6\n",
              "0      False   59   1.0       0     0  ...       NaN  NaN  NaN   NaN  NaN\n",
              "1       True   40   0.0       0     0  ...       NaN  4.7  NaN   NaN  NaN\n",
              "2      False   52   1.0       0     0  ...       NaN  NaN  NaN   NaN  NaN\n",
              "3      False   28   1.0       0     0  ...       NaN  NaN  NaN   NaN  NaN\n",
              "4      False   27   0.0       0     0  ...       NaN  9.6  NaN  41.1  NaN\n",
              "\n",
              "[5 rows x 69 columns]"
            ]
          },
          "metadata": {
            "tags": []
          },
          "execution_count": 14
        }
      ]
    },
    {
      "cell_type": "code",
      "metadata": {
        "id": "9a4_meW_Yk03",
        "colab_type": "code",
        "colab": {}
      },
      "source": [
        "#remove variables that are not present in both datasets\n",
        "patient_df_modified, test_df_modified = patient_df_modified.align(test_df_modified, join = 'inner', axis =1)"
      ],
      "execution_count": 15,
      "outputs": []
    },
    {
      "cell_type": "code",
      "metadata": {
        "id": "PwDN99s2sOSs",
        "colab_type": "code",
        "colab": {}
      },
      "source": [
        "#convert target variable (COVID_POS) values from True/False to 0/1\n",
        "patient_df_modified['COVID_POS'] *= 1\n",
        "test_df_modified['COVID_POS'] *= 1"
      ],
      "execution_count": 16,
      "outputs": []
    },
    {
      "cell_type": "code",
      "metadata": {
        "id": "H8d-5-XuTJkz",
        "colab_type": "code",
        "colab": {
          "base_uri": "https://localhost:8080/",
          "height": 35
        },
        "outputId": "5f242d9f-a600-453d-e5ff-27023ec13d52"
      },
      "source": [
        "\"There are {} features remaining.\".format(patient_df_modified.shape[1])"
      ],
      "execution_count": 17,
      "outputs": [
        {
          "output_type": "execute_result",
          "data": {
            "application/vnd.google.colaboratory.intrinsic+json": {
              "type": "string"
            },
            "text/plain": [
              "'There are 68 features remaining.'"
            ]
          },
          "metadata": {
            "tags": []
          },
          "execution_count": 17
        }
      ]
    },
    {
      "cell_type": "code",
      "metadata": {
        "id": "Up6D8M2TwhqK",
        "colab_type": "code",
        "colab": {
          "base_uri": "https://localhost:8080/",
          "height": 51
        },
        "outputId": "47b22831-40c7-4a86-c052-2c6503eafb73"
      },
      "source": [
        "print('{} NAs in COVID_POS train data'.format(patient_df_modified['COVID_POS'].isnull().sum()))\n",
        "print('{} NAs in COVID_POS test data'.format(test_df_modified['COVID_POS'].isnull().sum()))"
      ],
      "execution_count": 18,
      "outputs": [
        {
          "output_type": "stream",
          "text": [
            "0 NAs in COVID_POS train data\n",
            "0 NAs in COVID_POS test data\n"
          ],
          "name": "stdout"
        }
      ]
    },
    {
      "cell_type": "code",
      "metadata": {
        "id": "FGUJmauKpW0Y",
        "colab_type": "code",
        "colab": {}
      },
      "source": [
        "## impute missing values\n",
        "from sklearn.impute import SimpleImputer\n",
        "\n",
        "patient_df_modified_imputed = patient_df_modified.copy()\n",
        "test_df_modified_imputed = test_df_modified.copy()\n",
        "cat_cols = [col for col in patient_df_modified.columns if patient_df_modified[col].nunique() == 2 and col != 'COVID_POS'] #exclude target variable\n",
        "num_cols = [col for col in patient_df_modified_imputed.columns if col not in cat_cols and col != 'COVID_POS']\n",
        "\n",
        "#impute by median for numerical columns\n",
        "for col in num_cols:\n",
        "  imputer = SimpleImputer(missing_values = np.nan, strategy = 'median')\n",
        "  values = patient_df_modified_imputed[col].values.reshape(-1,1)\n",
        "  transformed_values = imputer.fit_transform(values)\n",
        "  patient_df_modified_imputed[col] = transformed_values\n",
        "\n",
        "#impute by most frequent value for categorical columns\n",
        "for col in cat_cols:\n",
        "  imputer = SimpleImputer(missing_values = np.nan, strategy = 'most_frequent')\n",
        "  values = patient_df_modified_imputed[col].values.reshape(-1,1)\n",
        "  transformed_values = imputer.fit_transform(values)\n",
        "  patient_df_modified_imputed[col] = transformed_values\n",
        "\n",
        "#repeat for test set\n",
        "for col in num_cols:\n",
        "  imputer = SimpleImputer(missing_values = np.nan, strategy = 'median')\n",
        "  values = test_df_modified_imputed[col].values.reshape(-1,1)\n",
        "  transformed_values = imputer.fit_transform(values)\n",
        "  test_df_modified_imputed[col] = transformed_values  \n",
        "\n",
        "for col in cat_cols:\n",
        "  imputer = SimpleImputer(missing_values = np.nan, strategy = 'most_frequent')\n",
        "  values = test_df_modified_imputed[col].values.reshape(-1,1)\n",
        "  transformed_values = imputer.fit_transform(values)\n",
        "  test_df_modified_imputed[col] = transformed_values"
      ],
      "execution_count": 19,
      "outputs": []
    },
    {
      "cell_type": "code",
      "metadata": {
        "id": "pmJJQt6iuCq7",
        "colab_type": "code",
        "colab": {}
      },
      "source": [
        "##feature scaling \n",
        "from sklearn.preprocessing import MinMaxScaler\n",
        "scaler = MinMaxScaler()\n",
        "#scale train and test data separately \n",
        "patient_df_modified_imputed_scaled = pd.DataFrame(data = scaler.fit_transform(patient_df_modified_imputed), columns = patient_df_modified_imputed.columns)\n",
        "test_df_modified_imputed_scaled = pd.DataFrame(data = scaler.transform(test_df_modified_imputed), columns = test_df_modified_imputed.columns)"
      ],
      "execution_count": 20,
      "outputs": []
    },
    {
      "cell_type": "code",
      "metadata": {
        "id": "1z01OJZLC-GQ",
        "colab_type": "code",
        "colab": {}
      },
      "source": [
        "!pip install eli5\n",
        "!pip install bayesian-optimization"
      ],
      "execution_count": null,
      "outputs": []
    },
    {
      "cell_type": "code",
      "metadata": {
        "id": "520G__Pm_Ryt",
        "colab_type": "code",
        "colab": {
          "base_uri": "https://localhost:8080/",
          "height": 122
        },
        "outputId": "73a62c96-2d89-479a-bd1b-c7310962d7f2"
      },
      "source": [
        "from sklearn.preprocessing import MinMaxScaler\n",
        "from sklearn.ensemble import RandomForestClassifier\n",
        "from sklearn.pipeline import Pipeline\n",
        "from sklearn.model_selection import RandomizedSearchCV, train_test_split, StratifiedKFold, cross_val_score\n",
        "from sklearn.metrics import accuracy_score, confusion_matrix, roc_auc_score, classification_report\n",
        "from  sklearn.base import BaseEstimator\n",
        "from sklearn.feature_selection import SelectFromModel, VarianceThreshold, SelectPercentile\n",
        "from bayes_opt import BayesianOptimization\n",
        "\n",
        "import eli5\n",
        "from eli5.sklearn import PermutationImportance\n",
        "from IPython.core.display import display, HTML\n",
        "\n",
        "import xgboost as xgb\n",
        "from xgboost import XGBClassifier\n",
        "from scipy import sparse, stats\n",
        "\n",
        "import seaborn as sns\n",
        "from matplotlib import pyplot as plt\n",
        "\n",
        "%matplotlib inline\n",
        "\n",
        "class TrainClassifier(BaseEstimator):\n",
        "    \n",
        "    def __init__(self, classifier=XGBClassifier(objective ='binary:logistic', tree_hist='gpu_hist')):\n",
        "        self.classifier = classifier \n",
        "    \n",
        "    def fit(self, X, y=None, **kwargs): \n",
        "        self.classifier.fit(X, y)\n",
        "        return self \n",
        "\n",
        "    #randomized search optimization for xgb classifier\n",
        "    def rs_tune_xgb(self, n_iter, num_folds, X, y):\n",
        "      folds = StratifiedKFold(n_splits = num_folds, shuffle = False)\n",
        "      params = {'n_estimators': stats.randint(100, 500),\n",
        "              'learning_rate': stats.uniform(0.01, 0.4),\n",
        "              'subsample': stats.uniform(0.2, 1.0),\n",
        "              'max_depth': stats.randint(1,40),\n",
        "              'colsample_bytree': stats.uniform(0.2, 1.0),\n",
        "              'min_child_weight': stats.randint(1,20),\n",
        "              'gamma': [0.01, 0.1, 0.2 , 0.3, 1, 3, 5, 10],\n",
        "              }\n",
        "      optimized_model = RandomizedSearchCV(estimator = self.classifier, \n",
        "                                           param_distributions = params,\n",
        "                                           n_iter = n_iter,\n",
        "                                           scoring = 'accuracy',\n",
        "                                           cv = folds,\n",
        "                                           random_state = np.random.seed(20),\n",
        "                                           n_jobs = -1,\n",
        "                                           verbose = 2)\n",
        "      optimized_model.fit(X, y)\n",
        "      self.classifier = optimized_model.best_estimator_\n",
        "      print(\"Optimal Parameters: {}\".format(optimized_model.best_params_))\n",
        "\n",
        "    #randomized search optimization for RF classifier\n",
        "    def rs_tune_rf(self, n_iter, num_folds, X, y):\n",
        "      folds = StratifiedKFold(n_splits = num_folds, shuffle = False)\n",
        "      params =  {'max_features': ['auto', 'sqrt'],\n",
        "                 'min_samples_split': [2, 5, 10],\n",
        "                 'min_samples_leaf': [1, 2, 4],\n",
        "                 'n_estimators': [int(x) for x in np.linspace(start=100, stop=500, num=20)], \n",
        "                 'max_depth': [int(x) for x in np.linspace(start=10, stop=100, num=10)],\n",
        "                 'bootstrap': [True, False]}\n",
        "      optimized_model = RandomizedSearchCV(estimator = self.classifier,\n",
        "                                           param_distributions = params,\n",
        "                                           n_iter = n_iter,\n",
        "                                           scoring = 'accuracy',\n",
        "                                           cv = folds,\n",
        "                                           random_state = np.random.seed(21),\n",
        "                                           n_jobs = -1,\n",
        "                                           verbose = 2)\n",
        "      optimized_model.fit(X,y)\n",
        "      self.classifier = optimized_model.best_estimator_\n",
        "      print(\"Optimal Parameters: {}\".format(optimized_model.best_params_))\n",
        "\n",
        "\n",
        "    #1st method of feature extraction \n",
        "    def permutationImportances(self, model, dataset, X, y=None, display=False):\n",
        "      model = model.fit(X, y)\n",
        "      perm = PermutationImportance(model, random_state=99).fit(X, y)\n",
        "      perm_df = eli5.format_as_dataframe(eli5.explain_weights(perm, feature_names=X.columns.tolist()))\n",
        "      if display: \n",
        "        display(eli5.show_weights(perm, feature_names=X.columns.tolist(), top=20))\n",
        "      perm_df_filtered = perm_df[perm_df['weight'] >= 0]\n",
        "      dataset_filtered = dataset[list(perm_df_filtered['feature'])]\n",
        "      return dataset_filtered\n",
        "\n",
        "    #2nd method of feature extraction\n",
        "    def rfcImportancesPlot(self, data, model): \n",
        "      important_features = data.columns\n",
        "      importances = model.feature_importances_\n",
        "      idx = np.argsort(importances)\n",
        "\n",
        "      plt.figure(figsize=(20, 20))\n",
        "      plt.title('Random Forests Feature Importances')\n",
        "      x, y = range(len(idx)), importances[idx]\n",
        "      plt.barh(x, y, color='b', align='center')\n",
        "      plt.yticks(x, [important_features[i] for i in idx])\n",
        "      plt.show()\n",
        "    \n",
        "    def rfcSelectPercentile(self, model, X_train, X_test, y_train, y_test, display=True):\n",
        "      sfm = SelectPercentile(percentile=10)\n",
        "      sfm.fit_transform(X_train, y_train)\n",
        "\n",
        "      columns = np.asarray(X_train.columns.values)\n",
        "      support = np.asarray(sfm.get_support())\n",
        "      cols_with_support = columns[support]\n",
        "      X_train_transformed = pd.DataFrame(sfm.transform(X_train), columns=cols_with_support)\n",
        "      X_test_transformed = pd.DataFrame(sfm.transform(X_test), columns =cols_with_support)\n",
        "\n",
        "      if display:\n",
        "        self.rfcImportancesPlot(X_train, model)\n",
        "      return X_train_transformed, X_test_transformed \n",
        "\n",
        "    #3rd method of feature extraction \n",
        "    def varianceThresholding(self, dataset, X_train, X_test):\n",
        "        variance = dataset.var()\n",
        "        avg_variance = np.average(variance)\n",
        "        v_thresh = VarianceThreshold(threshold=avg_variance)\n",
        "        v_thresh.fit(X_train)\n",
        "        return X_train[X_train.columns[v_thresh.get_support(indices = True)]], X_test[X_test.columns[v_thresh.get_support(indices = True)]]\n",
        "\n",
        "    #4th method of feature extraction \n",
        "    def highCorrelation(self, dataset):\n",
        "      correlation_matrix = dataset.corr().abs()\n",
        "      upper_triangle = np.triu(np.ones(correlation_matrix.shape), k=1).astype(np.bool8)\n",
        "      select_ut = correlation_matrix.where(upper_triangle)\n",
        "      hc = [col for col in dataset.columns if any(select_ut[col] > 0.95)]\n",
        "      dataset = dataset.drop(columns = hc, axis=1)\n",
        "      return dataset \n",
        "    \n",
        "    def predict(self, X, y=None):\n",
        "        self.classifier.predict(X)\n",
        "\n",
        "    def score(self, X, y):\n",
        "        testing_predictions = self.classifier.predict(X)\n",
        "        predictions = [round(value) for value in testing_predictions]\n",
        "        accuracy = accuracy_score(y, predictions)\n",
        "        return (\"Accuracy: %.2f%%\" % (accuracy * 100.0))\n",
        "\n",
        "    def auc_score(self, X, y):\n",
        "        testing_predictions = self.classifier.predict(X)\n",
        "        predictions = [round(value) for value in testing_predictions]\n",
        "        auc = roc_auc_score(y, predictions)\n",
        "        return (\"AUC: %.4f\" % (auc))\n",
        "    \n",
        "    def cross_val_acc(self, X, y):\n",
        "        scores = cross_val_score(self.classifier, X, y, cv=5, scoring = 'accuracy')\n",
        "        return ('CV Accuracy: %.2f%%' % (scores.mean() *100.0))\n",
        "\n",
        "    def class_report(self, X, y):\n",
        "        testing_predictions = self.classifier.predict(X)\n",
        "        predictions = [round(value) for value in testing_predictions]\n",
        "        return classification_report(y, predictions)\n",
        "\n",
        "    def full_report(self, X_train, y_train, X_test, y_test):\n",
        "        print('Train', self.score(X_train, y_train))\n",
        "        print(self.cross_val_acc(X_train, y_train))\n",
        "        print('Test', self.score(X_test, y_test))\n",
        "        print('Train', self.auc_score(X_train, y_train))\n",
        "        print('Test', self.auc_score(X_test, y_test))\n",
        "        print(self.class_report(X_test, y_test))\n",
        "    \n",
        "    def displayPredictionMatrix(self, X_test, y_test):\n",
        "      unique_labels = [0, 1]\n",
        "      testing_predictions = self.classifier.predict(X_test)\n",
        "      seed = np.random.seed(0)\n",
        "      matrix = confusion_matrix(y_test, testing_predictions, labels=unique_labels)\n",
        "      sns.heatmap(matrix, annot=True, xticklabels=unique_labels, yticklabels=unique_labels, cmap='Blues')\n",
        "      plt.ylabel('Actual/True Label')\n",
        "      plt.xlabel('Predicted Label')\n",
        "      plt.title('Confusion Matrix for Predicted Labeling')"
      ],
      "execution_count": 22,
      "outputs": [
        {
          "output_type": "stream",
          "text": [
            "/usr/local/lib/python3.6/dist-packages/sklearn/utils/deprecation.py:144: FutureWarning: The sklearn.metrics.scorer module is  deprecated in version 0.22 and will be removed in version 0.24. The corresponding classes / functions should instead be imported from sklearn.metrics. Anything that cannot be imported from sklearn.metrics is now part of the private API.\n",
            "  warnings.warn(message, FutureWarning)\n",
            "/usr/local/lib/python3.6/dist-packages/sklearn/utils/deprecation.py:144: FutureWarning: The sklearn.feature_selection.base module is  deprecated in version 0.22 and will be removed in version 0.24. The corresponding classes / functions should instead be imported from sklearn.feature_selection. Anything that cannot be imported from sklearn.feature_selection is now part of the private API.\n",
            "  warnings.warn(message, FutureWarning)\n",
            "Using TensorFlow backend.\n"
          ],
          "name": "stderr"
        }
      ]
    },
    {
      "cell_type": "code",
      "metadata": {
        "id": "TK6FfKg16WZ6",
        "colab_type": "code",
        "colab": {}
      },
      "source": [
        "features = [feature for feature in patient_df_modified_imputed_scaled.columns if feature != \"COVID_POS\"]\n",
        "\n",
        "X_train = patient_df_modified_imputed_scaled[features]\n",
        "y_train = patient_df_modified_imputed_scaled['COVID_POS']"
      ],
      "execution_count": 23,
      "outputs": []
    },
    {
      "cell_type": "code",
      "metadata": {
        "id": "gxUhQj8tC2OQ",
        "colab_type": "code",
        "colab": {
          "base_uri": "https://localhost:8080/",
          "height": 102
        },
        "outputId": "7ad77297-193c-4b78-eedd-b462515a97f3"
      },
      "source": [
        "import pickle\n",
        "\n",
        "pipe = Pipeline([('preprocessing', MinMaxScaler()),  \n",
        "                 ('classifier', RandomForestClassifier())])\n",
        "               \n",
        "params =  {'classifier': [RandomForestClassifier()], \n",
        "         'preprocessing': [MinMaxScaler(feature_range=(0, 1))],\n",
        "         'classifier__max_features': ['auto', 'sqrt'],\n",
        "         'classifier__min_samples_split': [2, 5, 10],\n",
        "         'classifier__min_samples_leaf': [1, 2, 4],\n",
        "         'classifier__n_estimators': [int(x) for x in np.linspace(start=100, stop=500, num=20)], \n",
        "         'classifier__max_depth': [int(x) for x in np.linspace(start=10, stop=100, num=10)],\n",
        "         'classifier__bootstrap': [True, False]}\n",
        "\n",
        "rscv = RandomizedSearchCV(pipe, params, n_iter=60, verbose=2, cv=5, random_state=np.random.seed(1), n_jobs=-1, scoring = 'accuracy')\n",
        "rscv.fit(X_train, y_train)\n",
        "random_forest_best = rscv.best_params_['classifier']\n",
        "filename = 'random_forest_best.sav'\n",
        "rfcb_saved = pickle.dump(random_forest_best, open(filename, 'wb'))\n",
        "rfcb_loaded = pickle.load(open(filename, 'rb'))\n",
        "rfcb_model = rfcb_loaded.fit(X_train, y_train)"
      ],
      "execution_count": 24,
      "outputs": [
        {
          "output_type": "stream",
          "text": [
            "Fitting 5 folds for each of 60 candidates, totalling 300 fits\n"
          ],
          "name": "stdout"
        },
        {
          "output_type": "stream",
          "text": [
            "[Parallel(n_jobs=-1)]: Using backend LokyBackend with 2 concurrent workers.\n",
            "[Parallel(n_jobs=-1)]: Done  37 tasks      | elapsed:  3.9min\n",
            "[Parallel(n_jobs=-1)]: Done 158 tasks      | elapsed: 14.4min\n",
            "[Parallel(n_jobs=-1)]: Done 300 out of 300 | elapsed: 28.8min finished\n"
          ],
          "name": "stderr"
        }
      ]
    },
    {
      "cell_type": "code",
      "metadata": {
        "id": "vCLioEXpDggd",
        "colab_type": "code",
        "colab": {}
      },
      "source": [
        "#use preprocessed 0413 dataset as train and preprocessed 0602 dataset as test\n",
        "X_train = patient_df_modified_imputed_scaled[features]\n",
        "y_train = patient_df_modified_imputed_scaled['COVID_POS']\n",
        "X_test = test_df_modified_imputed_scaled[features]\n",
        "y_test = test_df_modified_imputed_scaled['COVID_POS']"
      ],
      "execution_count": 25,
      "outputs": []
    },
    {
      "cell_type": "code",
      "metadata": {
        "id": "GyzcCG6Uf5Xx",
        "colab_type": "code",
        "colab": {
          "base_uri": "https://localhost:8080/",
          "height": 255
        },
        "outputId": "a812a1ef-8f34-4207-eedf-e1411e7c0388"
      },
      "source": [
        "# baseline XGB model (without feature selection or optimization)\n",
        "tr = TrainClassifier()\n",
        "tr.fit(X_train, y_train)\n",
        "tr.full_report(X_train, y_train, X_test, y_test)"
      ],
      "execution_count": 26,
      "outputs": [
        {
          "output_type": "stream",
          "text": [
            "Train Accuracy: 77.00%\n",
            "CV Accuracy: 74.68%\n",
            "Test Accuracy: 81.66%\n",
            "Train AUC: 0.7782\n",
            "Test AUC: 0.6955\n",
            "              precision    recall  f1-score   support\n",
            "\n",
            "         0.0       0.91      0.87      0.89     16323\n",
            "         1.0       0.42      0.52      0.46      2940\n",
            "\n",
            "    accuracy                           0.82     19263\n",
            "   macro avg       0.66      0.70      0.68     19263\n",
            "weighted avg       0.83      0.82      0.82     19263\n",
            "\n"
          ],
          "name": "stdout"
        }
      ]
    },
    {
      "cell_type": "code",
      "metadata": {
        "id": "5NPYALEC6I7q",
        "colab_type": "code",
        "colab": {
          "base_uri": "https://localhost:8080/",
          "height": 255
        },
        "outputId": "ec4a73df-e093-4dce-b3ec-3dee4b417577"
      },
      "source": [
        "# baseline RFC model \n",
        "tr_rfc = TrainClassifier(classifier=RandomForestClassifier())\n",
        "tr_rfc.fit(X_train, y_train)\n",
        "tr_rfc.full_report(X_train, y_train, X_test, y_test)"
      ],
      "execution_count": 27,
      "outputs": [
        {
          "output_type": "stream",
          "text": [
            "Train Accuracy: 97.56%\n",
            "CV Accuracy: 73.16%\n",
            "Test Accuracy: 82.72%\n",
            "Train AUC: 0.9761\n",
            "Test AUC: 0.7012\n",
            "              precision    recall  f1-score   support\n",
            "\n",
            "         0.0       0.91      0.88      0.90     16323\n",
            "         1.0       0.44      0.52      0.48      2940\n",
            "\n",
            "    accuracy                           0.83     19263\n",
            "   macro avg       0.68      0.70      0.69     19263\n",
            "weighted avg       0.84      0.83      0.83     19263\n",
            "\n"
          ],
          "name": "stdout"
        }
      ]
    },
    {
      "cell_type": "code",
      "metadata": {
        "id": "fcUvq97aILMp",
        "colab_type": "code",
        "colab": {
          "base_uri": "https://localhost:8080/",
          "height": 391
        },
        "outputId": "0144c353-404f-4492-9567-e481a18f6492"
      },
      "source": [
        "# XGB with permutation importances and randomized search optimization\n",
        "tr_perm = TrainClassifier()\n",
        "permutation_dataset = tr_perm.permutationImportances(rfcb_model, patient_df_modified_imputed_scaled, X_train, y_train, display)\n",
        "X_train_perm = permutation_dataset\n",
        "X_test_perm = test_df_modified_imputed[permutation_dataset.columns]"
      ],
      "execution_count": 28,
      "outputs": [
        {
          "output_type": "display_data",
          "data": {
            "text/html": [
              "\n",
              "    <style>\n",
              "    table.eli5-weights tr:hover {\n",
              "        filter: brightness(85%);\n",
              "    }\n",
              "</style>\n",
              "\n",
              "\n",
              "\n",
              "    \n",
              "\n",
              "    \n",
              "\n",
              "    \n",
              "\n",
              "    \n",
              "\n",
              "    \n",
              "\n",
              "    \n",
              "\n",
              "\n",
              "    \n",
              "\n",
              "    \n",
              "\n",
              "    \n",
              "\n",
              "    \n",
              "\n",
              "    \n",
              "\n",
              "    \n",
              "\n",
              "\n",
              "    \n",
              "\n",
              "    \n",
              "\n",
              "    \n",
              "\n",
              "    \n",
              "\n",
              "    \n",
              "        <table class=\"eli5-weights eli5-feature-importances\" style=\"border-collapse: collapse; border: none; margin-top: 0em; table-layout: auto;\">\n",
              "    <thead>\n",
              "    <tr style=\"border: none;\">\n",
              "        <th style=\"padding: 0 1em 0 0.5em; text-align: right; border: none;\">Weight</th>\n",
              "        <th style=\"padding: 0 0.5em 0 0.5em; text-align: left; border: none;\">Feature</th>\n",
              "    </tr>\n",
              "    </thead>\n",
              "    <tbody>\n",
              "    \n",
              "        <tr style=\"background-color: hsl(120, 100.00%, 80.00%); border: none;\">\n",
              "            <td style=\"padding: 0 1em 0 0.5em; text-align: right; border: none;\">\n",
              "                0.0685\n",
              "                \n",
              "                    &plusmn; 0.0018\n",
              "                \n",
              "            </td>\n",
              "            <td style=\"padding: 0 0.5em 0 0.5em; text-align: left; border: none;\">\n",
              "                AGE\n",
              "            </td>\n",
              "        </tr>\n",
              "    \n",
              "        <tr style=\"background-color: hsl(120, 100.00%, 82.70%); border: none;\">\n",
              "            <td style=\"padding: 0 1em 0 0.5em; text-align: right; border: none;\">\n",
              "                0.0557\n",
              "                \n",
              "                    &plusmn; 0.0016\n",
              "                \n",
              "            </td>\n",
              "            <td style=\"padding: 0 0.5em 0 0.5em; text-align: left; border: none;\">\n",
              "                TEMPERATURE\n",
              "            </td>\n",
              "        </tr>\n",
              "    \n",
              "        <tr style=\"background-color: hsl(120, 100.00%, 84.24%); border: none;\">\n",
              "            <td style=\"padding: 0 1em 0 0.5em; text-align: right; border: none;\">\n",
              "                0.0487\n",
              "                \n",
              "                    &plusmn; 0.0020\n",
              "                \n",
              "            </td>\n",
              "            <td style=\"padding: 0 0.5em 0 0.5em; text-align: left; border: none;\">\n",
              "                TEMP_MAX\n",
              "            </td>\n",
              "        </tr>\n",
              "    \n",
              "        <tr style=\"background-color: hsl(120, 100.00%, 84.75%); border: none;\">\n",
              "            <td style=\"padding: 0 1em 0 0.5em; text-align: right; border: none;\">\n",
              "                0.0465\n",
              "                \n",
              "                    &plusmn; 0.0020\n",
              "                \n",
              "            </td>\n",
              "            <td style=\"padding: 0 0.5em 0 0.5em; text-align: left; border: none;\">\n",
              "                BMI\n",
              "            </td>\n",
              "        </tr>\n",
              "    \n",
              "        <tr style=\"background-color: hsl(120, 100.00%, 85.44%); border: none;\">\n",
              "            <td style=\"padding: 0 1em 0 0.5em; text-align: right; border: none;\">\n",
              "                0.0435\n",
              "                \n",
              "                    &plusmn; 0.0021\n",
              "                \n",
              "            </td>\n",
              "            <td style=\"padding: 0 0.5em 0 0.5em; text-align: left; border: none;\">\n",
              "                HEART_RATE\n",
              "            </td>\n",
              "        </tr>\n",
              "    \n",
              "        <tr style=\"background-color: hsl(120, 100.00%, 86.00%); border: none;\">\n",
              "            <td style=\"padding: 0 1em 0 0.5em; text-align: right; border: none;\">\n",
              "                0.0411\n",
              "                \n",
              "                    &plusmn; 0.0034\n",
              "                \n",
              "            </td>\n",
              "            <td style=\"padding: 0 0.5em 0 0.5em; text-align: left; border: none;\">\n",
              "                CALCIUM\n",
              "            </td>\n",
              "        </tr>\n",
              "    \n",
              "        <tr style=\"background-color: hsl(120, 100.00%, 87.44%); border: none;\">\n",
              "            <td style=\"padding: 0 1em 0 0.5em; text-align: right; border: none;\">\n",
              "                0.0352\n",
              "                \n",
              "                    &plusmn; 0.0025\n",
              "                \n",
              "            </td>\n",
              "            <td style=\"padding: 0 0.5em 0 0.5em; text-align: left; border: none;\">\n",
              "                WBC\n",
              "            </td>\n",
              "        </tr>\n",
              "    \n",
              "        <tr style=\"background-color: hsl(120, 100.00%, 88.46%); border: none;\">\n",
              "            <td style=\"padding: 0 1em 0 0.5em; text-align: right; border: none;\">\n",
              "                0.0312\n",
              "                \n",
              "                    &plusmn; 0.0033\n",
              "                \n",
              "            </td>\n",
              "            <td style=\"padding: 0 0.5em 0 0.5em; text-align: left; border: none;\">\n",
              "                O2SAT_MIN\n",
              "            </td>\n",
              "        </tr>\n",
              "    \n",
              "        <tr style=\"background-color: hsl(120, 100.00%, 90.65%); border: none;\">\n",
              "            <td style=\"padding: 0 1em 0 0.5em; text-align: right; border: none;\">\n",
              "                0.0231\n",
              "                \n",
              "                    &plusmn; 0.0012\n",
              "                \n",
              "            </td>\n",
              "            <td style=\"padding: 0 0.5em 0 0.5em; text-align: left; border: none;\">\n",
              "                RACE_SIMPLE\n",
              "            </td>\n",
              "        </tr>\n",
              "    \n",
              "        <tr style=\"background-color: hsl(120, 100.00%, 90.73%); border: none;\">\n",
              "            <td style=\"padding: 0 1em 0 0.5em; text-align: right; border: none;\">\n",
              "                0.0228\n",
              "                \n",
              "                    &plusmn; 0.0019\n",
              "                \n",
              "            </td>\n",
              "            <td style=\"padding: 0 0.5em 0 0.5em; text-align: left; border: none;\">\n",
              "                O2_SAT\n",
              "            </td>\n",
              "        </tr>\n",
              "    \n",
              "        <tr style=\"background-color: hsl(120, 100.00%, 90.94%); border: none;\">\n",
              "            <td style=\"padding: 0 1em 0 0.5em; text-align: right; border: none;\">\n",
              "                0.0221\n",
              "                \n",
              "                    &plusmn; 0.0017\n",
              "                \n",
              "            </td>\n",
              "            <td style=\"padding: 0 0.5em 0 0.5em; text-align: left; border: none;\">\n",
              "                SMOKING_SIMPLE\n",
              "            </td>\n",
              "        </tr>\n",
              "    \n",
              "        <tr style=\"background-color: hsl(120, 100.00%, 91.19%); border: none;\">\n",
              "            <td style=\"padding: 0 1em 0 0.5em; text-align: right; border: none;\">\n",
              "                0.0212\n",
              "                \n",
              "                    &plusmn; 0.0013\n",
              "                \n",
              "            </td>\n",
              "            <td style=\"padding: 0 0.5em 0 0.5em; text-align: left; border: none;\">\n",
              "                DIASTOLIC_BP\n",
              "            </td>\n",
              "        </tr>\n",
              "    \n",
              "        <tr style=\"background-color: hsl(120, 100.00%, 91.64%); border: none;\">\n",
              "            <td style=\"padding: 0 1em 0 0.5em; text-align: right; border: none;\">\n",
              "                0.0197\n",
              "                \n",
              "                    &plusmn; 0.0011\n",
              "                \n",
              "            </td>\n",
              "            <td style=\"padding: 0 0.5em 0 0.5em; text-align: left; border: none;\">\n",
              "                SYSTOLIC_BP\n",
              "            </td>\n",
              "        </tr>\n",
              "    \n",
              "        <tr style=\"background-color: hsl(120, 100.00%, 91.68%); border: none;\">\n",
              "            <td style=\"padding: 0 1em 0 0.5em; text-align: right; border: none;\">\n",
              "                0.0195\n",
              "                \n",
              "                    &plusmn; 0.0021\n",
              "                \n",
              "            </td>\n",
              "            <td style=\"padding: 0 0.5em 0 0.5em; text-align: left; border: none;\">\n",
              "                EOS_PCT\n",
              "            </td>\n",
              "        </tr>\n",
              "    \n",
              "        <tr style=\"background-color: hsl(120, 100.00%, 94.31%); border: none;\">\n",
              "            <td style=\"padding: 0 1em 0 0.5em; text-align: right; border: none;\">\n",
              "                0.0114\n",
              "                \n",
              "                    &plusmn; 0.0011\n",
              "                \n",
              "            </td>\n",
              "            <td style=\"padding: 0 0.5em 0 0.5em; text-align: left; border: none;\">\n",
              "                MALE\n",
              "            </td>\n",
              "        </tr>\n",
              "    \n",
              "        <tr style=\"background-color: hsl(120, 100.00%, 94.37%); border: none;\">\n",
              "            <td style=\"padding: 0 1em 0 0.5em; text-align: right; border: none;\">\n",
              "                0.0112\n",
              "                \n",
              "                    &plusmn; 0.0020\n",
              "                \n",
              "            </td>\n",
              "            <td style=\"padding: 0 0.5em 0 0.5em; text-align: left; border: none;\">\n",
              "                HGB\n",
              "            </td>\n",
              "        </tr>\n",
              "    \n",
              "        <tr style=\"background-color: hsl(120, 100.00%, 95.45%); border: none;\">\n",
              "            <td style=\"padding: 0 1em 0 0.5em; text-align: right; border: none;\">\n",
              "                0.0083\n",
              "                \n",
              "                    &plusmn; 0.0022\n",
              "                \n",
              "            </td>\n",
              "            <td style=\"padding: 0 0.5em 0 0.5em; text-align: left; border: none;\">\n",
              "                MONO_PCT\n",
              "            </td>\n",
              "        </tr>\n",
              "    \n",
              "        <tr style=\"background-color: hsl(120, 100.00%, 95.51%); border: none;\">\n",
              "            <td style=\"padding: 0 1em 0 0.5em; text-align: right; border: none;\">\n",
              "                0.0081\n",
              "                \n",
              "                    &plusmn; 0.0016\n",
              "                \n",
              "            </td>\n",
              "            <td style=\"padding: 0 0.5em 0 0.5em; text-align: left; border: none;\">\n",
              "                RESPIRATORY_RATE\n",
              "            </td>\n",
              "        </tr>\n",
              "    \n",
              "        <tr style=\"background-color: hsl(120, 100.00%, 95.91%); border: none;\">\n",
              "            <td style=\"padding: 0 1em 0 0.5em; text-align: right; border: none;\">\n",
              "                0.0071\n",
              "                \n",
              "                    &plusmn; 0.0012\n",
              "                \n",
              "            </td>\n",
              "            <td style=\"padding: 0 0.5em 0 0.5em; text-align: left; border: none;\">\n",
              "                PLT\n",
              "            </td>\n",
              "        </tr>\n",
              "    \n",
              "        <tr style=\"background-color: hsl(120, 100.00%, 95.91%); border: none;\">\n",
              "            <td style=\"padding: 0 1em 0 0.5em; text-align: right; border: none;\">\n",
              "                0.0071\n",
              "                \n",
              "                    &plusmn; 0.0022\n",
              "                \n",
              "            </td>\n",
              "            <td style=\"padding: 0 0.5em 0 0.5em; text-align: left; border: none;\">\n",
              "                FERRITIN\n",
              "            </td>\n",
              "        </tr>\n",
              "    \n",
              "    \n",
              "        \n",
              "            <tr style=\"background-color: hsl(120, 100.00%, 95.91%); border: none;\">\n",
              "                <td colspan=\"2\" style=\"padding: 0 0.5em 0 0.5em; text-align: center; border: none; white-space: nowrap;\">\n",
              "                    <i>&hellip; 47 more &hellip;</i>\n",
              "                </td>\n",
              "            </tr>\n",
              "        \n",
              "    \n",
              "    </tbody>\n",
              "</table>\n",
              "    \n",
              "\n",
              "    \n",
              "\n",
              "\n",
              "    \n",
              "\n",
              "    \n",
              "\n",
              "    \n",
              "\n",
              "    \n",
              "\n",
              "    \n",
              "\n",
              "    \n",
              "\n",
              "\n",
              "\n"
            ],
            "text/plain": [
              "<IPython.core.display.HTML object>"
            ]
          },
          "metadata": {
            "tags": []
          }
        }
      ]
    },
    {
      "cell_type": "code",
      "metadata": {
        "id": "IxKXdDjAmjuX",
        "colab_type": "code",
        "colab": {
          "base_uri": "https://localhost:8080/",
          "height": 139
        },
        "outputId": "51ae5a09-1dba-4c5d-a9bd-dcb669d0b5bf"
      },
      "source": [
        "tr_perm.rs_tune_xgb(n_iter = 60, num_folds = 5, X = X_train_perm, y = y_train)"
      ],
      "execution_count": 29,
      "outputs": [
        {
          "output_type": "stream",
          "text": [
            "Fitting 5 folds for each of 60 candidates, totalling 300 fits\n"
          ],
          "name": "stdout"
        },
        {
          "output_type": "stream",
          "text": [
            "[Parallel(n_jobs=-1)]: Using backend LokyBackend with 2 concurrent workers.\n",
            "[Parallel(n_jobs=-1)]: Done  37 tasks      | elapsed:  2.7min\n",
            "[Parallel(n_jobs=-1)]: Done 158 tasks      | elapsed:  9.3min\n",
            "[Parallel(n_jobs=-1)]: Done 300 out of 300 | elapsed: 15.1min finished\n"
          ],
          "name": "stderr"
        },
        {
          "output_type": "stream",
          "text": [
            "Optimal Parameters: {'colsample_bytree': 0.6410759401431649, 'gamma': 5, 'learning_rate': 0.05885226704669288, 'max_depth': 7, 'min_child_weight': 19, 'n_estimators': 303, 'subsample': 0.7378840636118942}\n"
          ],
          "name": "stdout"
        }
      ]
    },
    {
      "cell_type": "code",
      "metadata": {
        "id": "j79bjbdfu988",
        "colab_type": "code",
        "colab": {
          "base_uri": "https://localhost:8080/",
          "height": 255
        },
        "outputId": "70b4c2bd-fa38-4ea1-a49f-a71e918e16cc"
      },
      "source": [
        "tr_perm.fit(X_train_perm, y_train)\n",
        "tr_perm.full_report(X_train_perm, y_train, X_test_perm, y_test)"
      ],
      "execution_count": 31,
      "outputs": [
        {
          "output_type": "stream",
          "text": [
            "Train Accuracy: 79.25%\n",
            "CV Accuracy: 74.90%\n",
            "Test Accuracy: 83.82%\n",
            "Train AUC: 0.7971\n",
            "Test AUC: 0.5365\n",
            "              precision    recall  f1-score   support\n",
            "\n",
            "         0.0       0.86      0.97      0.91     16323\n",
            "         1.0       0.39      0.10      0.16      2940\n",
            "\n",
            "    accuracy                           0.84     19263\n",
            "   macro avg       0.62      0.54      0.54     19263\n",
            "weighted avg       0.79      0.84      0.80     19263\n",
            "\n"
          ],
          "name": "stdout"
        }
      ]
    },
    {
      "cell_type": "code",
      "metadata": {
        "id": "_wm9AIyQmhxh",
        "colab_type": "code",
        "colab": {
          "base_uri": "https://localhost:8080/",
          "height": 119
        },
        "outputId": "80d5bb6a-5b75-4c9d-e645-8241d94c9646"
      },
      "source": [
        "# RFC with permutation importances\n",
        "tr_perm_rfc = TrainClassifier(classifier=RandomForestClassifier())\n",
        "\n",
        "tr_perm_rfc.rs_tune_rf(n_iter = 60, num_folds = 5, X = X_train_perm, y = y_train)"
      ],
      "execution_count": 32,
      "outputs": [
        {
          "output_type": "stream",
          "text": [
            "Fitting 5 folds for each of 60 candidates, totalling 300 fits\n"
          ],
          "name": "stdout"
        },
        {
          "output_type": "stream",
          "text": [
            "[Parallel(n_jobs=-1)]: Using backend LokyBackend with 2 concurrent workers.\n",
            "[Parallel(n_jobs=-1)]: Done  37 tasks      | elapsed:  2.8min\n",
            "[Parallel(n_jobs=-1)]: Done 158 tasks      | elapsed: 11.5min\n",
            "[Parallel(n_jobs=-1)]: Done 300 out of 300 | elapsed: 23.2min finished\n"
          ],
          "name": "stderr"
        },
        {
          "output_type": "stream",
          "text": [
            "Optimal Parameters: {'n_estimators': 205, 'min_samples_split': 5, 'min_samples_leaf': 4, 'max_features': 'sqrt', 'max_depth': 50, 'bootstrap': True}\n"
          ],
          "name": "stdout"
        }
      ]
    },
    {
      "cell_type": "code",
      "metadata": {
        "id": "xePoL74Om4yt",
        "colab_type": "code",
        "colab": {
          "base_uri": "https://localhost:8080/",
          "height": 255
        },
        "outputId": "7b7a64dd-5f0a-4ed9-f94e-491555df732a"
      },
      "source": [
        "tr_perm_rfc.fit(X_train_perm, y_train)\n",
        "tr_perm_rfc.full_report(X_train_perm, y_train, X_test_perm, y_test)"
      ],
      "execution_count": 33,
      "outputs": [
        {
          "output_type": "stream",
          "text": [
            "Train Accuracy: 89.03%\n",
            "CV Accuracy: 74.46%\n",
            "Test Accuracy: 81.87%\n",
            "Train AUC: 0.8939\n",
            "Test AUC: 0.4990\n",
            "              precision    recall  f1-score   support\n",
            "\n",
            "         0.0       0.85      0.96      0.90     16323\n",
            "         1.0       0.15      0.04      0.06      2940\n",
            "\n",
            "    accuracy                           0.82     19263\n",
            "   macro avg       0.50      0.50      0.48     19263\n",
            "weighted avg       0.74      0.82      0.77     19263\n",
            "\n"
          ],
          "name": "stdout"
        }
      ]
    },
    {
      "cell_type": "code",
      "metadata": {
        "id": "yLTMPFBrVcCe",
        "colab_type": "code",
        "colab": {
          "base_uri": "https://localhost:8080/",
          "height": 255
        },
        "outputId": "4015edbd-404b-4ed3-d912-22632a45e365"
      },
      "source": [
        "#variance thresholding XGB\n",
        "tr_vt = TrainClassifier()\n",
        "X_train_vt, X_test_vt = tr_vt.varianceThresholding(patient_df_modified_imputed_scaled, X_train, X_test)\n",
        "tr_vt.fit(X_train_vt, y_train)\n",
        "tr_vt.full_report(X_train_vt, y_train, X_test_vt, y_test)"
      ],
      "execution_count": 36,
      "outputs": [
        {
          "output_type": "stream",
          "text": [
            "Train Accuracy: 67.31%\n",
            "CV Accuracy: 65.87%\n",
            "Test Accuracy: 56.84%\n",
            "Train AUC: 0.6665\n",
            "Test AUC: 0.6272\n",
            "              precision    recall  f1-score   support\n",
            "\n",
            "         0.0       0.91      0.54      0.68     16323\n",
            "         1.0       0.22      0.71      0.33      2940\n",
            "\n",
            "    accuracy                           0.57     19263\n",
            "   macro avg       0.57      0.63      0.51     19263\n",
            "weighted avg       0.81      0.57      0.63     19263\n",
            "\n"
          ],
          "name": "stdout"
        }
      ]
    },
    {
      "cell_type": "code",
      "metadata": {
        "id": "v1nzo6QmtBuF",
        "colab_type": "code",
        "colab": {
          "base_uri": "https://localhost:8080/",
          "height": 255
        },
        "outputId": "4fcaca88-0224-4c63-fd56-d3449dd708cc"
      },
      "source": [
        "# VT RFC\n",
        "tr_vt_rfc = TrainClassifier(classifier=RandomForestClassifier())\n",
        "tr_vt_rfc.fit(X_train_vt, y_train)\n",
        "tr_vt_rfc.full_report(X_train_vt, y_train, X_test_vt, y_test)"
      ],
      "execution_count": 37,
      "outputs": [
        {
          "output_type": "stream",
          "text": [
            "Train Accuracy: 80.90%\n",
            "CV Accuracy: 62.34%\n",
            "Test Accuracy: 55.29%\n",
            "Train AUC: 0.8078\n",
            "Test AUC: 0.5907\n",
            "              precision    recall  f1-score   support\n",
            "\n",
            "         0.0       0.89      0.54      0.67     16323\n",
            "         1.0       0.20      0.65      0.31      2940\n",
            "\n",
            "    accuracy                           0.55     19263\n",
            "   macro avg       0.55      0.59      0.49     19263\n",
            "weighted avg       0.79      0.55      0.61     19263\n",
            "\n"
          ],
          "name": "stdout"
        }
      ]
    },
    {
      "cell_type": "code",
      "metadata": {
        "id": "R_QzqzkrVpBU",
        "colab_type": "code",
        "colab": {}
      },
      "source": [
        "#select percentile feature selection XGB\n",
        "tr_pctl = TrainClassifier()\n",
        "tr_pctl.fit(X_train, y_train)\n",
        "X_train_transformed, X_test_transformed = tr_pctl.rfcSelectPercentile(rfcb_model, X_train, X_test, y_train, y_test, display=False)"
      ],
      "execution_count": 39,
      "outputs": []
    },
    {
      "cell_type": "code",
      "metadata": {
        "id": "ej1kW4BEuA22",
        "colab_type": "code",
        "colab": {
          "base_uri": "https://localhost:8080/",
          "height": 156
        },
        "outputId": "5a925990-f64b-43b9-e9b9-915542ca7a99"
      },
      "source": [
        "tr_pctl.rs_tune_xgb(n_iter = 60, num_folds = 5, X = X_train_transformed, y = y_train)"
      ],
      "execution_count": 42,
      "outputs": [
        {
          "output_type": "stream",
          "text": [
            "Fitting 5 folds for each of 60 candidates, totalling 300 fits\n"
          ],
          "name": "stdout"
        },
        {
          "output_type": "stream",
          "text": [
            "[Parallel(n_jobs=-1)]: Using backend LokyBackend with 2 concurrent workers.\n",
            "[Parallel(n_jobs=-1)]: Done  37 tasks      | elapsed:  1.4min\n",
            "[Parallel(n_jobs=-1)]: Done 158 tasks      | elapsed:  4.9min\n",
            "[Parallel(n_jobs=-1)]: Done 297 out of 300 | elapsed:  7.9min remaining:    4.8s\n",
            "[Parallel(n_jobs=-1)]: Done 300 out of 300 | elapsed:  7.9min finished\n"
          ],
          "name": "stderr"
        },
        {
          "output_type": "stream",
          "text": [
            "Optimal Parameters: {'colsample_bytree': 0.6410759401431649, 'gamma': 5, 'learning_rate': 0.05885226704669288, 'max_depth': 7, 'min_child_weight': 19, 'n_estimators': 303, 'subsample': 0.7378840636118942}\n"
          ],
          "name": "stdout"
        }
      ]
    },
    {
      "cell_type": "code",
      "metadata": {
        "id": "LzAvLEUhoDrK",
        "colab_type": "code",
        "colab": {
          "base_uri": "https://localhost:8080/",
          "height": 306
        },
        "outputId": "667d507e-8eff-4c7b-b628-9ba8de1f9829"
      },
      "source": [
        "tr_pctl.fit(X_train_transformed, y_train)\n",
        "\n",
        "tr_pctl.full_report(X_train_transformed, y_train, X_test_transformed, y_test)\n",
        "\n",
        "print('Selected Features:', X_train_transformed.columns)"
      ],
      "execution_count": 43,
      "outputs": [
        {
          "output_type": "stream",
          "text": [
            "Train Accuracy: 72.54%\n",
            "CV Accuracy: 70.60%\n",
            "Test Accuracy: 79.15%\n",
            "Train AUC: 0.7297\n",
            "Test AUC: 0.6759\n",
            "              precision    recall  f1-score   support\n",
            "\n",
            "         0.0       0.91      0.84      0.87     16323\n",
            "         1.0       0.37      0.51      0.43      2940\n",
            "\n",
            "    accuracy                           0.79     19263\n",
            "   macro avg       0.64      0.68      0.65     19263\n",
            "weighted avg       0.82      0.79      0.80     19263\n",
            "\n",
            "Selected Features: Index(['AGE', 'TEMPERATURE', 'TEMP_MAX', 'RESPIRATORY_RATE', 'O2_SAT',\n",
            "       'O2SAT_MIN', 'CALCIUM'],\n",
            "      dtype='object')\n"
          ],
          "name": "stdout"
        }
      ]
    },
    {
      "cell_type": "code",
      "metadata": {
        "id": "yQYpADv0Mmrc",
        "colab_type": "code",
        "colab": {
          "base_uri": "https://localhost:8080/",
          "height": 119
        },
        "outputId": "4d2f61f2-6666-4b22-913a-e4f5874432c4"
      },
      "source": [
        "# select percentile RF model\n",
        "tr_pctl_rfc = TrainClassifier(classifier=RandomForestClassifier())\n",
        "\n",
        "tr_pctl_rfc.rs_tune_rf(n_iter = 60, num_folds = 5, X = X_train_transformed, y = y_train)"
      ],
      "execution_count": 45,
      "outputs": [
        {
          "output_type": "stream",
          "text": [
            "Fitting 5 folds for each of 60 candidates, totalling 300 fits\n"
          ],
          "name": "stdout"
        },
        {
          "output_type": "stream",
          "text": [
            "[Parallel(n_jobs=-1)]: Using backend LokyBackend with 2 concurrent workers.\n",
            "[Parallel(n_jobs=-1)]: Done  37 tasks      | elapsed:  1.6min\n",
            "[Parallel(n_jobs=-1)]: Done 158 tasks      | elapsed:  6.5min\n",
            "[Parallel(n_jobs=-1)]: Done 300 out of 300 | elapsed: 12.9min finished\n"
          ],
          "name": "stderr"
        },
        {
          "output_type": "stream",
          "text": [
            "Optimal Parameters: {'n_estimators': 268, 'min_samples_split': 10, 'min_samples_leaf': 1, 'max_features': 'auto', 'max_depth': 10, 'bootstrap': True}\n"
          ],
          "name": "stdout"
        }
      ]
    },
    {
      "cell_type": "code",
      "metadata": {
        "id": "Ow05JWoBM7tJ",
        "colab_type": "code",
        "colab": {
          "base_uri": "https://localhost:8080/",
          "height": 255
        },
        "outputId": "774fb7fd-9494-4f02-d602-fdc0d9962b98"
      },
      "source": [
        "tr_pctl_rfc.fit(X_train_transformed, y_train)\n",
        "\n",
        "tr_pctl_rfc.full_report(X_train_transformed, y_train, X_test_transformed, y_test)"
      ],
      "execution_count": 47,
      "outputs": [
        {
          "output_type": "stream",
          "text": [
            "Train Accuracy: 75.80%\n",
            "CV Accuracy: 70.76%\n",
            "Test Accuracy: 79.39%\n",
            "Train AUC: 0.7646\n",
            "Test AUC: 0.6755\n",
            "              precision    recall  f1-score   support\n",
            "\n",
            "         0.0       0.90      0.85      0.87     16323\n",
            "         1.0       0.37      0.51      0.43      2940\n",
            "\n",
            "    accuracy                           0.79     19263\n",
            "   macro avg       0.64      0.68      0.65     19263\n",
            "weighted avg       0.82      0.79      0.81     19263\n",
            "\n"
          ],
          "name": "stdout"
        }
      ]
    },
    {
      "cell_type": "code",
      "metadata": {
        "id": "jXc6pzOHkIx8",
        "colab_type": "code",
        "colab": {
          "base_uri": "https://localhost:8080/",
          "height": 139
        },
        "outputId": "7e3bfeba-833b-4a7f-a4f1-e68af29bea8e"
      },
      "source": [
        "#first simple XGB model with select vars \n",
        "tr_simple1 = TrainClassifier()\n",
        "\n",
        "X_train_simple1 = X_train[['AGE', 'MALE','RACE_SIMPLE', 'ASTHMA', 'COPD', 'HTN', 'OBSTRUCTIVE_SLEEP_APNEA', \n",
        "                          'OBESITY', 'DIABETES', 'CHRONIC_KIDNEY_DISEASE', 'HIV_FLAG', 'CANCER_FLAG', 'CORONARY_ARTERY_DISEASE', \n",
        "                          'ATRIAL_FIBRILLATION', 'HEART_FAILURE', 'CHRONIC_VIRAL_HEPATITIS', 'ALCOHOLIC_NONALCOHOLIC_LIVER_DISEASE', \n",
        "                          'SMOKING_SIMPLE', 'BMI','O2_SAT', 'TEMPERATURE']]\n",
        "X_test_simple1 = X_test[X_train_simple1.columns]\n",
        "\n",
        "tr_simple1.rs_tune_xgb(n_iter = 60, num_folds=5, X = X_train_simple1, y = y_train)"
      ],
      "execution_count": null,
      "outputs": [
        {
          "output_type": "stream",
          "text": [
            "Fitting 5 folds for each of 60 candidates, totalling 300 fits\n"
          ],
          "name": "stdout"
        },
        {
          "output_type": "stream",
          "text": [
            "[Parallel(n_jobs=-1)]: Using backend LokyBackend with 2 concurrent workers.\n",
            "[Parallel(n_jobs=-1)]: Done  37 tasks      | elapsed:  2.6min\n",
            "[Parallel(n_jobs=-1)]: Done 158 tasks      | elapsed:  8.7min\n",
            "[Parallel(n_jobs=-1)]: Done 300 out of 300 | elapsed: 14.1min finished\n"
          ],
          "name": "stderr"
        },
        {
          "output_type": "stream",
          "text": [
            "Optimal Parameters: {'colsample_bytree': 0.7822411232852156, 'gamma': 10, 'learning_rate': 0.12813400566021746, 'max_depth': 11, 'min_child_weight': 11, 'n_estimators': 313, 'subsample': 0.934300519317053}\n"
          ],
          "name": "stdout"
        }
      ]
    },
    {
      "cell_type": "code",
      "metadata": {
        "id": "pbpR4Pf-Yikb",
        "colab_type": "code",
        "colab": {
          "base_uri": "https://localhost:8080/",
          "height": 255
        },
        "outputId": "14c9d000-d2d9-4a38-86c8-5773dae2c8c9"
      },
      "source": [
        "tr_simple1.fit(X_train_simple1, y_train)\n",
        "tr_simple1.full_report(X_train_simple1, y_train, X_test_simple1, y_test)"
      ],
      "execution_count": null,
      "outputs": [
        {
          "output_type": "stream",
          "text": [
            "Train Accuracy: 71.72%\n",
            "CV Accuracy: 69.56%\n",
            "Test Accuracy: 71.84%\n",
            "Train AUC: 0.7166\n",
            "Test AUC: 0.6567\n",
            "              precision    recall  f1-score   support\n",
            "\n",
            "         0.0       0.91      0.75      0.82     16323\n",
            "         1.0       0.29      0.57      0.38      2940\n",
            "\n",
            "    accuracy                           0.72     19263\n",
            "   macro avg       0.60      0.66      0.60     19263\n",
            "weighted avg       0.81      0.72      0.75     19263\n",
            "\n"
          ],
          "name": "stdout"
        }
      ]
    },
    {
      "cell_type": "code",
      "metadata": {
        "id": "AGXs1fK6-iyk",
        "colab_type": "code",
        "colab": {
          "base_uri": "https://localhost:8080/",
          "height": 173
        },
        "outputId": "927a5de1-f4b3-4744-95da-f9314b24490b"
      },
      "source": [
        "#first simple RF model\n",
        "tr_simple1_rfc = TrainClassifier(classifier=RandomForestClassifier())\n",
        "\n",
        "tr_simple1_rfc.rs_tune_rf(n_iter = 60, num_folds = 5, X = X_train_simple1, y = y_train)"
      ],
      "execution_count": null,
      "outputs": [
        {
          "output_type": "stream",
          "text": [
            "Fitting 5 folds for each of 60 candidates, totalling 300 fits\n"
          ],
          "name": "stdout"
        },
        {
          "output_type": "stream",
          "text": [
            "[Parallel(n_jobs=-1)]: Using backend LokyBackend with 2 concurrent workers.\n",
            "[Parallel(n_jobs=-1)]: Done  37 tasks      | elapsed:  1.7min\n",
            "/usr/local/lib/python3.6/dist-packages/joblib/externals/loky/process_executor.py:691: UserWarning: A worker stopped while some jobs were given to the executor. This can be caused by a too short worker timeout or by a memory leak.\n",
            "  \"timeout or by a memory leak.\", UserWarning\n",
            "[Parallel(n_jobs=-1)]: Done 158 tasks      | elapsed:  6.9min\n",
            "[Parallel(n_jobs=-1)]: Done 300 out of 300 | elapsed: 13.7min finished\n"
          ],
          "name": "stderr"
        },
        {
          "output_type": "stream",
          "text": [
            "Optimal Parameters: {'n_estimators': 394, 'min_samples_split': 10, 'min_samples_leaf': 4, 'max_features': 'auto', 'max_depth': 60, 'bootstrap': False}\n"
          ],
          "name": "stdout"
        }
      ]
    },
    {
      "cell_type": "code",
      "metadata": {
        "id": "qkK18EXeZFja",
        "colab_type": "code",
        "colab": {
          "base_uri": "https://localhost:8080/",
          "height": 255
        },
        "outputId": "b893456d-b308-477b-e89e-315292efc419"
      },
      "source": [
        "tr_simple1_rfc.fit(X_train_simple1, y_train)\n",
        "tr_simple1_rfc.full_report(X_train_simple1, y_train, X_test_simple1, y_test)"
      ],
      "execution_count": null,
      "outputs": [
        {
          "output_type": "stream",
          "text": [
            "Train Accuracy: 82.37%\n",
            "CV Accuracy: 69.24%\n",
            "Test Accuracy: 69.98%\n",
            "Train AUC: 0.8254\n",
            "Test AUC: 0.6530\n",
            "              precision    recall  f1-score   support\n",
            "\n",
            "         0.0       0.91      0.72      0.80     16323\n",
            "         1.0       0.27      0.59      0.37      2940\n",
            "\n",
            "    accuracy                           0.70     19263\n",
            "   macro avg       0.59      0.65      0.59     19263\n",
            "weighted avg       0.81      0.70      0.74     19263\n",
            "\n"
          ],
          "name": "stdout"
        }
      ]
    },
    {
      "cell_type": "code",
      "metadata": {
        "id": "1-_7fyLxlwx9",
        "colab_type": "code",
        "colab": {
          "base_uri": "https://localhost:8080/",
          "height": 139
        },
        "outputId": "b457207b-2435-480e-da96-9dea1131ff87"
      },
      "source": [
        "#add easily obtained lab values\n",
        "#second simple XGB model\n",
        "tr_simple2 = TrainClassifier()\n",
        "\n",
        "simple2_cols = list(X_train_simple1.columns) + ['HGB', 'WBC', 'PLT', 'SODIUM', 'POTASSIUM', 'CHLORIDE', 'BUN', 'CREATININE']\n",
        "X_train_simple2 = X_train[simple2_cols]\n",
        "X_test_simple2 = X_test[X_train_simple2.columns]\n",
        "\n",
        "tr_simple2.rs_tune_xgb(n_iter = 60, num_folds=5, X = X_train_simple2, y = y_train)"
      ],
      "execution_count": null,
      "outputs": [
        {
          "output_type": "stream",
          "text": [
            "Fitting 5 folds for each of 60 candidates, totalling 300 fits\n"
          ],
          "name": "stdout"
        },
        {
          "output_type": "stream",
          "text": [
            "[Parallel(n_jobs=-1)]: Using backend LokyBackend with 2 concurrent workers.\n",
            "[Parallel(n_jobs=-1)]: Done  37 tasks      | elapsed:  3.5min\n",
            "[Parallel(n_jobs=-1)]: Done 158 tasks      | elapsed: 11.9min\n",
            "[Parallel(n_jobs=-1)]: Done 300 out of 300 | elapsed: 19.1min finished\n"
          ],
          "name": "stderr"
        },
        {
          "output_type": "stream",
          "text": [
            "Optimal Parameters: {'colsample_bytree': 0.6410759401431649, 'gamma': 5, 'learning_rate': 0.05885226704669288, 'max_depth': 7, 'min_child_weight': 19, 'n_estimators': 303, 'subsample': 0.7378840636118942}\n"
          ],
          "name": "stdout"
        }
      ]
    },
    {
      "cell_type": "code",
      "metadata": {
        "id": "IVl-ncJWdZB8",
        "colab_type": "code",
        "colab": {
          "base_uri": "https://localhost:8080/",
          "height": 255
        },
        "outputId": "317d7cff-073b-4934-a727-5dff4199cf05"
      },
      "source": [
        "tr_simple2.fit(X_train_simple2, y_train)\n",
        "tr_simple2.full_report(X_train_simple2, y_train, X_test_simple2, y_test)"
      ],
      "execution_count": null,
      "outputs": [
        {
          "output_type": "stream",
          "text": [
            "Train Accuracy: 75.60%\n",
            "CV Accuracy: 71.30%\n",
            "Test Accuracy: 77.41%\n",
            "Train AUC: 0.7590\n",
            "Test AUC: 0.6663\n",
            "              precision    recall  f1-score   support\n",
            "\n",
            "         0.0       0.90      0.82      0.86     16323\n",
            "         1.0       0.34      0.51      0.41      2940\n",
            "\n",
            "    accuracy                           0.77     19263\n",
            "   macro avg       0.62      0.67      0.63     19263\n",
            "weighted avg       0.82      0.77      0.79     19263\n",
            "\n"
          ],
          "name": "stdout"
        }
      ]
    },
    {
      "cell_type": "code",
      "metadata": {
        "id": "pxxcfHY0-9Hg",
        "colab_type": "code",
        "colab": {
          "base_uri": "https://localhost:8080/",
          "height": 139
        },
        "outputId": "469580b6-7e9d-4f3b-b51c-12b6215eda60"
      },
      "source": [
        "#second simple RF model\n",
        "tr_simple2_rfc = TrainClassifier(classifier=RandomForestClassifier())\n",
        "\n",
        "tr_simple2_rfc.rs_tune_rf(n_iter = 60, num_folds = 5, X = X_train_simple2, y = y_train)"
      ],
      "execution_count": null,
      "outputs": [
        {
          "output_type": "stream",
          "text": [
            "Fitting 5 folds for each of 60 candidates, totalling 300 fits\n"
          ],
          "name": "stdout"
        },
        {
          "output_type": "stream",
          "text": [
            "[Parallel(n_jobs=-1)]: Using backend LokyBackend with 2 concurrent workers.\n",
            "[Parallel(n_jobs=-1)]: Done  37 tasks      | elapsed:  2.4min\n",
            "[Parallel(n_jobs=-1)]: Done 158 tasks      | elapsed:  9.6min\n",
            "[Parallel(n_jobs=-1)]: Done 300 out of 300 | elapsed: 19.2min finished\n"
          ],
          "name": "stderr"
        },
        {
          "output_type": "stream",
          "text": [
            "Optimal Parameters: {'n_estimators': 268, 'min_samples_split': 2, 'min_samples_leaf': 4, 'max_features': 'auto', 'max_depth': 40, 'bootstrap': True}\n"
          ],
          "name": "stdout"
        }
      ]
    },
    {
      "cell_type": "code",
      "metadata": {
        "id": "vM4FfKVLdnU1",
        "colab_type": "code",
        "colab": {
          "base_uri": "https://localhost:8080/",
          "height": 255
        },
        "outputId": "90d4cbdc-3861-4076-e23e-1b5b3b600399"
      },
      "source": [
        "tr_simple2_rfc.fit(X_train_simple2, y_train)\n",
        "tr_simple2_rfc.full_report(X_train_simple2, y_train, X_test_simple2, y_test)"
      ],
      "execution_count": null,
      "outputs": [
        {
          "output_type": "stream",
          "text": [
            "Train Accuracy: 83.64%\n",
            "CV Accuracy: 70.88%\n",
            "Test Accuracy: 73.74%\n",
            "Train AUC: 0.8403\n",
            "Test AUC: 0.6646\n",
            "              precision    recall  f1-score   support\n",
            "\n",
            "         0.0       0.91      0.77      0.83     16323\n",
            "         1.0       0.30      0.56      0.39      2940\n",
            "\n",
            "    accuracy                           0.74     19263\n",
            "   macro avg       0.61      0.66      0.61     19263\n",
            "weighted avg       0.81      0.74      0.77     19263\n",
            "\n"
          ],
          "name": "stdout"
        }
      ]
    },
    {
      "cell_type": "code",
      "metadata": {
        "id": "Awk6dL4xnuPK",
        "colab_type": "code",
        "colab": {
          "base_uri": "https://localhost:8080/",
          "height": 139
        },
        "outputId": "a1b46101-d1ff-4478-866b-169242817630"
      },
      "source": [
        "#add more relatively easily obtained lab values\n",
        "#third simple XGB model\n",
        "tr_simple3 = TrainClassifier()\n",
        "\n",
        "simple3_cols = list(X_train_simple2.columns) + ['ALT', 'AST', 'ALBUMIN', 'CALCIUM', 'TBILI']\n",
        "X_train_simple3 = X_train[simple3_cols]\n",
        "X_test_simple3 = X_test[X_train_simple3.columns]\n",
        "\n",
        "tr_simple3.rs_tune_xgb(n_iter = 60, num_folds=5, X = X_train_simple3, y = y_train)"
      ],
      "execution_count": null,
      "outputs": [
        {
          "output_type": "stream",
          "text": [
            "Fitting 5 folds for each of 60 candidates, totalling 300 fits\n"
          ],
          "name": "stdout"
        },
        {
          "output_type": "stream",
          "text": [
            "[Parallel(n_jobs=-1)]: Using backend LokyBackend with 2 concurrent workers.\n",
            "[Parallel(n_jobs=-1)]: Done  37 tasks      | elapsed:  3.9min\n",
            "[Parallel(n_jobs=-1)]: Done 158 tasks      | elapsed: 13.1min\n",
            "[Parallel(n_jobs=-1)]: Done 300 out of 300 | elapsed: 21.2min finished\n"
          ],
          "name": "stderr"
        },
        {
          "output_type": "stream",
          "text": [
            "Optimal Parameters: {'colsample_bytree': 0.6410759401431649, 'gamma': 5, 'learning_rate': 0.05885226704669288, 'max_depth': 7, 'min_child_weight': 19, 'n_estimators': 303, 'subsample': 0.7378840636118942}\n"
          ],
          "name": "stdout"
        }
      ]
    },
    {
      "cell_type": "code",
      "metadata": {
        "id": "Z-wJ2gGExp8l",
        "colab_type": "code",
        "colab": {
          "base_uri": "https://localhost:8080/",
          "height": 255
        },
        "outputId": "cab7e49d-7152-4586-ca20-b8b768528887"
      },
      "source": [
        "tr_simple3.fit(X_train_simple3, y_train)\n",
        "tr_simple3.full_report(X_train_simple3, y_train, X_test_simple3, y_test)"
      ],
      "execution_count": null,
      "outputs": [
        {
          "output_type": "stream",
          "text": [
            "Train Accuracy: 77.20%\n",
            "CV Accuracy: 73.18%\n",
            "Test Accuracy: 80.82%\n",
            "Train AUC: 0.7769\n",
            "Test AUC: 0.6841\n",
            "              precision    recall  f1-score   support\n",
            "\n",
            "         0.0       0.91      0.86      0.88     16323\n",
            "         1.0       0.40      0.51      0.45      2940\n",
            "\n",
            "    accuracy                           0.81     19263\n",
            "   macro avg       0.65      0.68      0.66     19263\n",
            "weighted avg       0.83      0.81      0.82     19263\n",
            "\n"
          ],
          "name": "stdout"
        }
      ]
    },
    {
      "cell_type": "code",
      "metadata": {
        "id": "xz0b2wEj_N1y",
        "colab_type": "code",
        "colab": {
          "base_uri": "https://localhost:8080/",
          "height": 139
        },
        "outputId": "f99e0002-b8b8-45d5-b937-e75bd7642e7b"
      },
      "source": [
        "#third simple RF model\n",
        "tr_simple3_rfc = TrainClassifier(classifier=RandomForestClassifier())\n",
        "\n",
        "tr_simple3_rfc.rs_tune_rf(n_iter = 60, num_folds = 5, X = X_train_simple3, y = y_train)"
      ],
      "execution_count": null,
      "outputs": [
        {
          "output_type": "stream",
          "text": [
            "Fitting 5 folds for each of 60 candidates, totalling 300 fits\n"
          ],
          "name": "stdout"
        },
        {
          "output_type": "stream",
          "text": [
            "[Parallel(n_jobs=-1)]: Using backend LokyBackend with 2 concurrent workers.\n",
            "[Parallel(n_jobs=-1)]: Done  37 tasks      | elapsed:  2.5min\n",
            "[Parallel(n_jobs=-1)]: Done 158 tasks      | elapsed: 10.0min\n",
            "[Parallel(n_jobs=-1)]: Done 300 out of 300 | elapsed: 20.1min finished\n"
          ],
          "name": "stderr"
        },
        {
          "output_type": "stream",
          "text": [
            "Optimal Parameters: {'n_estimators': 394, 'min_samples_split': 2, 'min_samples_leaf': 1, 'max_features': 'auto', 'max_depth': 20, 'bootstrap': False}\n"
          ],
          "name": "stdout"
        }
      ]
    },
    {
      "cell_type": "code",
      "metadata": {
        "id": "P79rYqUuyTuH",
        "colab_type": "code",
        "colab": {
          "base_uri": "https://localhost:8080/",
          "height": 255
        },
        "outputId": "e2afba78-69f3-4f4e-f65b-5f115c6f7e04"
      },
      "source": [
        "tr_simple3_rfc.fit(X_train_simple3, y_train)\n",
        "tr_simple3_rfc.full_report(X_train_simple3, y_train, X_test_simple3, y_test)"
      ],
      "execution_count": null,
      "outputs": [
        {
          "output_type": "stream",
          "text": [
            "Train Accuracy: 89.20%\n",
            "CV Accuracy: 72.72%\n",
            "Test Accuracy: 79.50%\n",
            "Train AUC: 0.8994\n",
            "Test AUC: 0.6870\n",
            "              precision    recall  f1-score   support\n",
            "\n",
            "         0.0       0.91      0.84      0.87     16323\n",
            "         1.0       0.38      0.53      0.44      2940\n",
            "\n",
            "    accuracy                           0.79     19263\n",
            "   macro avg       0.64      0.69      0.66     19263\n",
            "weighted avg       0.83      0.79      0.81     19263\n",
            "\n"
          ],
          "name": "stdout"
        }
      ]
    },
    {
      "cell_type": "code",
      "metadata": {
        "id": "UcQeAgpGqB9_",
        "colab_type": "code",
        "colab": {}
      },
      "source": [
        "#pd.DataFrame({'Features': X_train.columns, 'Importance': tr.classifier.feature_importances_}).sort_values('Importance', ascending = False)[0:10]"
      ],
      "execution_count": null,
      "outputs": []
    },
    {
      "cell_type": "code",
      "metadata": {
        "id": "yHFfWXVIvj1K",
        "colab_type": "code",
        "colab": {}
      },
      "source": [
        "#fig, ax = plt.subplots(figsize=(10, 15))\n",
        "#xgb.plot_importance(tr_simple.classifier, importance_type='weight', ax = ax)\n",
        "#plt.show()"
      ],
      "execution_count": null,
      "outputs": []
    },
    {
      "cell_type": "code",
      "metadata": {
        "id": "gHe5FDlZ2AQj",
        "colab_type": "code",
        "colab": {}
      },
      "source": [
        ""
      ],
      "execution_count": null,
      "outputs": []
    }
  ]
}